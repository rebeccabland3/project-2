{
 "cells": [
  {
   "cell_type": "code",
   "execution_count": 14,
   "metadata": {},
   "outputs": [],
   "source": [
    "import pandas as pd\n",
    "import requests\n",
    "import json\n",
    "import time"
   ]
  },
  {
   "cell_type": "code",
   "execution_count": 13,
   "metadata": {},
   "outputs": [
    {
     "data": {
      "text/html": [
       "<div>\n",
       "<style scoped>\n",
       "    .dataframe tbody tr th:only-of-type {\n",
       "        vertical-align: middle;\n",
       "    }\n",
       "\n",
       "    .dataframe tbody tr th {\n",
       "        vertical-align: top;\n",
       "    }\n",
       "\n",
       "    .dataframe thead th {\n",
       "        text-align: right;\n",
       "    }\n",
       "</style>\n",
       "<table border=\"1\" class=\"dataframe\">\n",
       "  <thead>\n",
       "    <tr style=\"text-align: right;\">\n",
       "      <th></th>\n",
       "      <th>Longitude</th>\n",
       "      <th>Latitude</th>\n",
       "      <th>Sample type</th>\n",
       "      <th>ITS total</th>\n",
       "      <th>Biome</th>\n",
       "      <th>MAT</th>\n",
       "      <th>MAP</th>\n",
       "      <th>pH</th>\n",
       "      <th>Sampling year</th>\n",
       "    </tr>\n",
       "  </thead>\n",
       "  <tbody>\n",
       "    <tr>\n",
       "      <th>0</th>\n",
       "      <td>6.40244</td>\n",
       "      <td>45.06072</td>\n",
       "      <td>bulk soil_10 to 30 cm depth</td>\n",
       "      <td>26469</td>\n",
       "      <td>shrubland biome</td>\n",
       "      <td>-0.6</td>\n",
       "      <td>1003</td>\n",
       "      <td>7.25</td>\n",
       "      <td>2013</td>\n",
       "    </tr>\n",
       "    <tr>\n",
       "      <th>1</th>\n",
       "      <td>6.40244</td>\n",
       "      <td>45.06072</td>\n",
       "      <td>bulk soil_10 to 30 cm depth</td>\n",
       "      <td>20465</td>\n",
       "      <td>shrubland biome</td>\n",
       "      <td>-0.6</td>\n",
       "      <td>1003</td>\n",
       "      <td>7.25</td>\n",
       "      <td>2013</td>\n",
       "    </tr>\n",
       "    <tr>\n",
       "      <th>2</th>\n",
       "      <td>6.40244</td>\n",
       "      <td>45.06072</td>\n",
       "      <td>bulk soil_10 to 30 cm depth</td>\n",
       "      <td>30097</td>\n",
       "      <td>shrubland biome</td>\n",
       "      <td>-0.6</td>\n",
       "      <td>1003</td>\n",
       "      <td>7.25</td>\n",
       "      <td>2013</td>\n",
       "    </tr>\n",
       "    <tr>\n",
       "      <th>3</th>\n",
       "      <td>6.40244</td>\n",
       "      <td>45.06072</td>\n",
       "      <td>roots_whole root system</td>\n",
       "      <td>45477</td>\n",
       "      <td>shrubland biome</td>\n",
       "      <td>-0.6</td>\n",
       "      <td>1003</td>\n",
       "      <td>7.25</td>\n",
       "      <td>2013</td>\n",
       "    </tr>\n",
       "    <tr>\n",
       "      <th>4</th>\n",
       "      <td>6.40244</td>\n",
       "      <td>45.06072</td>\n",
       "      <td>roots_whole root system</td>\n",
       "      <td>58385</td>\n",
       "      <td>shrubland biome</td>\n",
       "      <td>-0.6</td>\n",
       "      <td>1003</td>\n",
       "      <td>7.25</td>\n",
       "      <td>2013</td>\n",
       "    </tr>\n",
       "    <tr>\n",
       "      <th>...</th>\n",
       "      <td>...</td>\n",
       "      <td>...</td>\n",
       "      <td>...</td>\n",
       "      <td>...</td>\n",
       "      <td>...</td>\n",
       "      <td>...</td>\n",
       "      <td>...</td>\n",
       "      <td>...</td>\n",
       "      <td>...</td>\n",
       "    </tr>\n",
       "    <tr>\n",
       "      <th>20004</th>\n",
       "      <td>-155.81480</td>\n",
       "      <td>19.82760</td>\n",
       "      <td>leaves</td>\n",
       "      <td>2486</td>\n",
       "      <td>forest biome</td>\n",
       "      <td>20.6</td>\n",
       "      <td>658</td>\n",
       "      <td>NA_</td>\n",
       "      <td>2009</td>\n",
       "    </tr>\n",
       "    <tr>\n",
       "      <th>20005</th>\n",
       "      <td>-155.71830</td>\n",
       "      <td>19.64380</td>\n",
       "      <td>leaves</td>\n",
       "      <td>1781</td>\n",
       "      <td>forest biome</td>\n",
       "      <td>14.8</td>\n",
       "      <td>800</td>\n",
       "      <td>NA_</td>\n",
       "      <td>2009</td>\n",
       "    </tr>\n",
       "    <tr>\n",
       "      <th>20006</th>\n",
       "      <td>-155.81480</td>\n",
       "      <td>19.82760</td>\n",
       "      <td>leaves</td>\n",
       "      <td>2460</td>\n",
       "      <td>forest biome</td>\n",
       "      <td>20.6</td>\n",
       "      <td>658</td>\n",
       "      <td>NA_</td>\n",
       "      <td>2009</td>\n",
       "    </tr>\n",
       "    <tr>\n",
       "      <th>20007</th>\n",
       "      <td>-155.81480</td>\n",
       "      <td>19.82760</td>\n",
       "      <td>leaves</td>\n",
       "      <td>1719</td>\n",
       "      <td>forest biome</td>\n",
       "      <td>20.6</td>\n",
       "      <td>658</td>\n",
       "      <td>NA_</td>\n",
       "      <td>2009</td>\n",
       "    </tr>\n",
       "    <tr>\n",
       "      <th>20008</th>\n",
       "      <td>-155.26750</td>\n",
       "      <td>19.68710</td>\n",
       "      <td>leaves</td>\n",
       "      <td>429</td>\n",
       "      <td>forest biome</td>\n",
       "      <td>17.7</td>\n",
       "      <td>3126</td>\n",
       "      <td>NA_</td>\n",
       "      <td>2009</td>\n",
       "    </tr>\n",
       "  </tbody>\n",
       "</table>\n",
       "<p>20009 rows × 9 columns</p>\n",
       "</div>"
      ],
      "text/plain": [
       "       Longitude  Latitude                  Sample type  ITS total  \\\n",
       "0        6.40244  45.06072  bulk soil_10 to 30 cm depth      26469   \n",
       "1        6.40244  45.06072  bulk soil_10 to 30 cm depth      20465   \n",
       "2        6.40244  45.06072  bulk soil_10 to 30 cm depth      30097   \n",
       "3        6.40244  45.06072      roots_whole root system      45477   \n",
       "4        6.40244  45.06072      roots_whole root system      58385   \n",
       "...          ...       ...                          ...        ...   \n",
       "20004 -155.81480  19.82760                       leaves       2486   \n",
       "20005 -155.71830  19.64380                       leaves       1781   \n",
       "20006 -155.81480  19.82760                       leaves       2460   \n",
       "20007 -155.81480  19.82760                       leaves       1719   \n",
       "20008 -155.26750  19.68710                       leaves        429   \n",
       "\n",
       "                 Biome   MAT   MAP    pH Sampling year  \n",
       "0      shrubland biome  -0.6  1003  7.25          2013  \n",
       "1      shrubland biome  -0.6  1003  7.25          2013  \n",
       "2      shrubland biome  -0.6  1003  7.25          2013  \n",
       "3      shrubland biome  -0.6  1003  7.25          2013  \n",
       "4      shrubland biome  -0.6  1003  7.25          2013  \n",
       "...                ...   ...   ...   ...           ...  \n",
       "20004     forest biome  20.6   658   NA_          2009  \n",
       "20005     forest biome  14.8   800   NA_          2009  \n",
       "20006     forest biome  20.6   658   NA_          2009  \n",
       "20007     forest biome  20.6   658   NA_          2009  \n",
       "20008     forest biome  17.7  3126   NA_          2009  \n",
       "\n",
       "[20009 rows x 9 columns]"
      ]
     },
     "execution_count": 13,
     "metadata": {},
     "output_type": "execute_result"
    }
   ],
   "source": [
    "fungi_data = pd.read_excel(\"../species_app/data/Fungi Data/GlobalFungi_metadata.xlsx\")\n",
    "fungi_data "
   ]
  },
  {
   "cell_type": "code",
   "execution_count": 16,
   "metadata": {},
   "outputs": [],
   "source": [
    "# plant API - distributions/locations\n",
    "# base = \"https://trefle.io/api/v1/distributions?token=QJ34dZabNm5jkLoTOSKNd0zPIQb_GKDbh1_w8TZAxdk&page=2\"\n",
    "# response = requests.get(base).json()"
   ]
  },
  {
   "cell_type": "code",
   "execution_count": 35,
   "metadata": {},
   "outputs": [
    {
     "data": {
      "text/plain": [
       "{'total': 726}"
      ]
     },
     "execution_count": 35,
     "metadata": {},
     "output_type": "execute_result"
    }
   ],
   "source": [
    "#get total locations - 726\n",
    "response['meta']"
   ]
  },
  {
   "cell_type": "code",
   "execution_count": 36,
   "metadata": {},
   "outputs": [
    {
     "data": {
      "text/plain": [
       "20"
      ]
     },
     "execution_count": 36,
     "metadata": {},
     "output_type": "execute_result"
    }
   ],
   "source": [
    "# pages have 20 observations\n",
    "len(response['data'])"
   ]
  },
  {
   "cell_type": "code",
   "execution_count": 39,
   "metadata": {
    "collapsed": true,
    "jupyter": {
     "outputs_hidden": true
    }
   },
   "outputs": [
    {
     "name": "stdout",
     "output_type": "stream",
     "text": [
      "1\n",
      "2\n",
      "3\n",
      "4\n",
      "5\n",
      "6\n",
      "7\n",
      "8\n",
      "9\n",
      "10\n",
      "11\n",
      "12\n",
      "13\n",
      "14\n",
      "15\n",
      "16\n",
      "17\n",
      "18\n",
      "19\n",
      "20\n",
      "21\n",
      "22\n",
      "23\n",
      "24\n",
      "25\n",
      "26\n",
      "27\n",
      "28\n",
      "29\n",
      "30\n",
      "31\n",
      "32\n",
      "33\n",
      "34\n",
      "35\n",
      "36\n",
      "37\n"
     ]
    }
   ],
   "source": [
    "# for loop to make distribution json\n",
    "global_distributions = []\n",
    "\n",
    "# for page in range(1,38):\n",
    "#     base = f'https://trefle.io/api/v1/distributions?token=QJ34dZabNm5jkLoTOSKNd0zPIQb_GKDbh1_w8TZAxdk&page={page}'\n",
    "#     response = requests.get(base).json()\n",
    "#     global_distributions.append(reponse)\n",
    "#     print(page)"
   ]
  },
  {
   "cell_type": "code",
   "execution_count": 43,
   "metadata": {},
   "outputs": [],
   "source": [
    "#listed version\n",
    "global_distributions2 = []\n",
    "\n",
    "for page in global_distributions:\n",
    "    global_distributions2.extend(page['data'])"
   ]
  },
  {
   "cell_type": "code",
   "execution_count": 67,
   "metadata": {},
   "outputs": [],
   "source": [
    "#intermittently run and change name of each page\n",
    "with open('distributions.json', 'w') as F:\n",
    "    json.dump(global_distributions2, F)"
   ]
  },
  {
   "cell_type": "code",
   "execution_count": 68,
   "metadata": {},
   "outputs": [],
   "source": [
    "# species api\n",
    "# count species obervations and calucate number of pages needed\n",
    "# species - 406,944\n",
    "# 406,944/20 = range = 20,348\n",
    "\n",
    "# 500 pages with 20 objects in each page = 10,000 per json\n",
    "# 406,944 / 10,000 \n",
    "base = 'https://trefle.io/api/v1/species?token=QJ34dZabNm5jkLoTOSKNd0zPIQb_GKDbh1_w8TZAxdk'\n",
    "response2 = requests.get(base).json()"
   ]
  },
  {
   "cell_type": "code",
   "execution_count": 71,
   "metadata": {},
   "outputs": [
    {
     "data": {
      "text/plain": [
       "{'total': 406944}"
      ]
     },
     "execution_count": 71,
     "metadata": {},
     "output_type": "execute_result"
    }
   ],
   "source": [
    "response2['meta']"
   ]
  },
  {
   "cell_type": "code",
   "execution_count": 79,
   "metadata": {
    "collapsed": true,
    "jupyter": {
     "outputs_hidden": true
    }
   },
   "outputs": [
    {
     "name": "stdout",
     "output_type": "stream",
     "text": [
      "1500 {'data': [{'id': 1111667, 'common_name': None, 'slug': 'elaeoluma-glabrescens', 'scientific_name': 'Elaeoluma glabrescens', 'year': 1961, 'bibliography': 'Adansonia, n.s., 1: 26 (1961)', 'author': '(Mart. & Eichler) Aubrév.', 'status': 'accepted', 'rank': 'species', 'family_common_name': 'Sapodilla family', 'genus_id': 16479, 'image_url': 'https://d2seqvvyy3b8p2.cloudfront.net/3262dd116b50c39db1e6a0cc2ebe329b.jpg', 'synonyms': ['Vitellaria glabrescens', 'Gymnoluma glabrescens', 'Pouteria glabrescens', 'Oxythece glabrescens', 'Oxythece ferreirii'], 'genus': 'Elaeoluma', 'family': 'Sapotaceae', 'links': {'self': '/api/v1/species/elaeoluma-glabrescens', 'plant': '/api/v1/plants/elaeoluma-glabrescens', 'genus': '/api/v1/genus/elaeoluma'}}, {'id': 1064787, 'common_name': None, 'slug': 'arachnothryx-reflexa', 'scientific_name': 'Arachnothryx reflexa', 'year': 1849, 'bibliography': 'Fl. Serres Jard. Eur. 5: 442 (1849)', 'author': '(Benth.) Planch.', 'status': 'accepted', 'rank': 'species', 'family_common_name': 'Madder family', 'genus_id': 16824, 'image_url': 'https://d2seqvvyy3b8p2.cloudfront.net/7a14991c03dfe6dd2d06eb1ff8c68f9d.jpg', 'synonyms': ['Arachnothryx reflexa var. meridensis', 'Arachnothryx reflexa var. inconstans', 'Arachnothryx reflexa var. glandulifera', 'Arachnothryx reflexa var. calycina', 'Rondeletia reflexa', 'Arachnothryx reflexa var. trichotoma', 'Rondeletia orthoneura var. angustior', 'Rondeletia orthoneura', 'Arachnothryx reflexa var. breviloba', 'Rondeletia caracasana', 'Rondeletia trichotoma', 'Arachnothryx inconstans', 'Rondeletia inconstans'], 'genus': 'Arachnothryx', 'family': 'Rubiaceae', 'links': {'self': '/api/v1/species/arachnothryx-reflexa', 'plant': '/api/v1/plants/arachnothryx-reflexa', 'genus': '/api/v1/genus/arachnothryx'}}, {'id': 801026, 'common_name': None, 'slug': 'mollinedia-triflora', 'scientific_name': 'Mollinedia triflora', 'year': 1856, 'bibliography': 'Arch. Mus. Hist. Nat. 8: 394 (1856)', 'author': 'Tul.', 'status': 'accepted', 'rank': 'species', 'family_common_name': 'Monimia family', 'genus_id': 14622, 'image_url': 'https://d2seqvvyy3b8p2.cloudfront.net/7a5190a52808abfa8368c94cbda84dab.jpg', 'synonyms': ['Mollinedia triflora var. tulasnei', 'Citrosma triflora', 'Mollinedia chrysophylla'], 'genus': 'Mollinedia', 'family': 'Monimiaceae', 'links': {'self': '/api/v1/species/mollinedia-triflora', 'plant': '/api/v1/plants/mollinedia-triflora', 'genus': '/api/v1/genus/mollinedia'}}, {'id': 531972, 'common_name': None, 'slug': 'convolvulus-pentapetaloides', 'scientific_name': 'Convolvulus pentapetaloides', 'year': 1768, 'bibliography': 'Syst. Nat. ed. 12, 3: 229 (1768)', 'author': 'L.', 'status': 'accepted', 'rank': 'species', 'family_common_name': 'Morning-glory family', 'genus_id': 628, 'image_url': 'https://d2seqvvyy3b8p2.cloudfront.net/9c6b04f467da251056f66bafb5897a2c.jpg', 'synonyms': ['Convolvulus arcuatus', 'Convolvulus tricolor subsp. pentapetaloides'], 'genus': 'Convolvulus', 'family': 'Convolvulaceae', 'links': {'self': '/api/v1/species/convolvulus-pentapetaloides', 'plant': '/api/v1/plants/convolvulus-pentapetaloides', 'genus': '/api/v1/genus/convolvulus'}}, {'id': 151501, 'common_name': None, 'slug': 'lonicera-maximowiczii', 'scientific_name': 'Lonicera maximowiczii', 'year': 1857, 'bibliography': 'Gartenflora 6: 107 (1857)', 'author': '(Rupr.) Regel', 'status': 'accepted', 'rank': 'species', 'family_common_name': 'Honeysuckle family', 'genus_id': 1700, 'image_url': 'https://d2seqvvyy3b8p2.cloudfront.net/2361e82eec090859a90fb3a5e8aa05a3.jpg', 'synonyms': ['Lonicera maximowiczii var. stenophylla', 'Lonicera okamotoana', 'Caprifolium maximowiczii', 'Xylosteon maximowiczii', 'Lonicera maximowiczii var. okamotoana', 'Lonicera maximowiczii var. latifolia'], 'genus': 'Lonicera', 'family': 'Caprifoliaceae', 'links': {'self': '/api/v1/species/lonicera-maximowiczii', 'plant': '/api/v1/plants/lonicera-maximowiczii', 'genus': '/api/v1/genus/lonicera'}}, {'id': 144071, 'common_name': 'Sawtooth filmy fern', 'slug': 'hymenophyllum-serrulatum', 'scientific_name': 'Hymenophyllum serrulatum', 'year': 1905, 'bibliography': 'Index Filic.: 367 (1905)', 'author': '(C.Presl) C.Chr.', 'status': 'accepted', 'rank': 'species', 'family_common_name': 'Filmy Fern family', 'genus_id': 3688, 'image_url': 'https://d2seqvvyy3b8p2.cloudfront.net/34aa18e2df9b08d11209fbd4b2d92b8a.jpg', 'synonyms': ['Meringium meyenianum', 'Hymenophyllum meyenianum', 'Leptocionium serrulatum', 'Trichomanes meyenianum', 'Leptocionium preslii', 'Meringium pulchrum', 'Hymenophyllum polyodon', 'Hymenophyllum preslii', 'Didymoglossum serrulatum', 'Hymenophyllum pulchrum', 'Leptocionium violaceum', 'Hymenophyllum pyriforme', 'Trichomanes bivalve', 'Hymenophyllum bougainvillense', 'Hymenophyllum bivalve', 'Hymenophyllum spathulatum', 'Trichomanes pacificum', 'Meringium bivalve', 'Sphaerocionium bivalve'], 'genus': 'Hymenophyllum', 'family': 'Hymenophyllaceae', 'links': {'self': '/api/v1/species/hymenophyllum-serrulatum', 'plant': '/api/v1/plants/hymenophyllum-serrulatum', 'genus': '/api/v1/genus/hymenophyllum'}}, {'id': 249965, 'common_name': None, 'slug': 'austroeupatorium-laetevirens', 'scientific_name': 'Austroeupatorium laetevirens', 'year': 1970, 'bibliography': 'Phytologia 19(7): 434 (1970)', 'author': '(Hook. & Arn.) R.M.King & H.Rob.', 'status': 'accepted', 'rank': 'species', 'family_common_name': 'Aster family', 'genus_id': 8975, 'image_url': 'https://d2seqvvyy3b8p2.cloudfront.net/fa81b5061dee81534fa74d5dabdd4cef.jpg', 'synonyms': ['Eupatorium laetevirens', 'Eupatorium steviifolium var. salicinum', 'Eupatorium steviifolium var. laetevirens'], 'genus': 'Austroeupatorium', 'family': 'Asteraceae', 'links': {'self': '/api/v1/species/austroeupatorium-laetevirens', 'plant': '/api/v1/plants/austroeupatorium-laetevirens', 'genus': '/api/v1/genus/austroeupatorium'}}, {'id': 138839, 'common_name': 'Woolly huckleberry', 'slug': 'gaylussacia-mosieri', 'scientific_name': 'Gaylussacia mosieri', 'year': 1927, 'bibliography': 'Torreya 27: 36 (1927)', 'author': 'Small', 'status': 'accepted', 'rank': 'species', 'family_common_name': 'Heath family', 'genus_id': 3127, 'image_url': None, 'synonyms': ['Lasiococcus mosieri', 'Gaylussacia dumosa var. hirtella'], 'genus': 'Gaylussacia', 'family': 'Ericaceae', 'links': {'self': '/api/v1/species/gaylussacia-mosieri', 'plant': '/api/v1/plants/gaylussacia-mosieri', 'genus': '/api/v1/genus/gaylussacia'}}, {'id': 220217, 'common_name': 'Anthurium', 'slug': 'anthurium-pentaphyllum-var-bombacifolium', 'scientific_name': 'Anthurium pentaphyllum var. bombacifolium', 'year': 1978, 'bibliography': 'Selbyana 2:278.  1978', 'author': 'Madison (Schott)', 'status': 'accepted', 'rank': 'var', 'family_common_name': 'Arum family', 'genus_id': 509, 'image_url': None, 'synonyms': ['Anthurium bombacifolium', 'Anthurium aemulum', 'Anthurium karwinskyi'], 'genus': 'Anthurium', 'family': 'Araceae', 'links': {'self': '/api/v1/species/anthurium-pentaphyllum-var-bombacifolium', 'plant': '/api/v1/plants/anthurium-pentaphyllum', 'genus': '/api/v1/genus/anthurium'}}, {'id': 335669, 'common_name': None, 'slug': 'thapsia-minor', 'scientific_name': 'Thapsia minor', 'year': 1834, 'bibliography': 'Fl. Portug. 2: 431 (1834)', 'author': 'Hoffmanns. & Link', 'status': 'accepted', 'rank': 'species', 'family_common_name': 'Carrot family', 'genus_id': 7661, 'image_url': None, 'synonyms': [], 'genus': 'Thapsia', 'family': 'Apiaceae', 'links': {'self': '/api/v1/species/thapsia-minor', 'plant': '/api/v1/plants/thapsia-minor', 'genus': '/api/v1/genus/thapsia'}}, {'id': 751410, 'common_name': None, 'slug': 'lindernia-alsinoides', 'scientific_name': 'Lindernia alsinoides', 'year': 1810, 'bibliography': 'Prodr. Fl. Nov. Holland.: 441 (1810)', 'author': 'R.Br.', 'status': 'accepted', 'rank': 'species', 'family_common_name': None, 'genus_id': 4195, 'image_url': 'https://d2seqvvyy3b8p2.cloudfront.net/f3e193979d9f3b7415dad93cc19477ca.jpg', 'synonyms': ['Ilyogeton alsinoides', 'Tittmannia alsinoides', 'Vandellia alsinoides', 'Hyogeton alsinoides'], 'genus': 'Lindernia', 'family': 'Linderniaceae', 'links': {'self': '/api/v1/species/lindernia-alsinoides', 'plant': '/api/v1/plants/lindernia-alsinoides', 'genus': '/api/v1/genus/lindernia'}}, {'id': 681326, 'common_name': None, 'slug': 'chironia-linoides', 'scientific_name': 'Chironia linoides', 'year': 1753, 'bibliography': 'Sp. Pl.: 189 (1753)', 'author': 'L.', 'status': 'accepted', 'rank': 'species', 'family_common_name': 'Gentian family', 'genus_id': 5941, 'image_url': None, 'synonyms': ['Chironia ecklonii', 'Onefera coccinea', 'Chironia vulgaris', 'Chironia lychnoides', 'Chironia amoena', 'Chironia zeyheri'], 'genus': 'Chironia', 'family': 'Gentianaceae', 'links': {'self': '/api/v1/species/chironia-linoides', 'plant': '/api/v1/plants/chironia-linoides', 'genus': '/api/v1/genus/chironia'}}, {'id': 824453, 'common_name': None, 'slug': 'commicarpus-pentandrus', 'scientific_name': 'Commicarpus pentandrus', 'year': 1934, 'bibliography': 'H.G.A.Engler, Nat. Pflanzenfam. ed. 2, 16c: 117 (1934)', 'author': '(Burch.) Heimerl', 'status': 'accepted', 'rank': 'species', 'family_common_name': \"Four o'clock family\", 'genus_id': 1031, 'image_url': 'https://storage.googleapis.com/powop-assets/PPA/batch3/h1540c_fullsize.jpg', 'synonyms': ['Boerhavia pentandra', 'Boerhavia transvaalensis'], 'genus': 'Commicarpus', 'family': 'Nyctaginaceae', 'links': {'self': '/api/v1/species/commicarpus-pentandrus', 'plant': '/api/v1/plants/commicarpus-pentandrus', 'genus': '/api/v1/genus/commicarpus'}}, {'id': 175175, 'common_name': 'Island gooseberry', 'slug': 'ribes-viburnifolium', 'scientific_name': 'Ribes viburnifolium', 'year': 1882, 'bibliography': 'Proc. Amer. Acad. Arts 17: 202 (1882)', 'author': 'A.Gray', 'status': 'accepted', 'rank': 'species', 'family_common_name': 'Currant family', 'genus_id': 5882, 'image_url': 'https://bs.plantnet.org/image/o/96512bdd08138bbddb25158ceba009a748bc4fb8', 'synonyms': [], 'genus': 'Ribes', 'family': 'Grossulariaceae', 'links': {'self': '/api/v1/species/ribes-viburnifolium', 'plant': '/api/v1/plants/ribes-viburnifolium', 'genus': '/api/v1/genus/ribes'}}, {'id': 1063916, 'common_name': None, 'slug': 'anthospermum-aethiopicum', 'scientific_name': 'Anthospermum aethiopicum', 'year': 1753, 'bibliography': 'Sp. Pl.: 1058 (1753)', 'author': 'L.', 'status': 'accepted', 'rank': 'species', 'family_common_name': 'Madder family', 'genus_id': 16816, 'image_url': None, 'synonyms': ['Anthospermum ambrosiacum', 'Anthospermum aromaticum'], 'genus': 'Anthospermum', 'family': 'Rubiaceae', 'links': {'self': '/api/v1/species/anthospermum-aethiopicum', 'plant': '/api/v1/plants/anthospermum-aethiopicum', 'genus': '/api/v1/genus/anthospermum'}}, {'id': 107273, 'common_name': 'Forked threeawn', 'slug': 'aristida-basiramea', 'scientific_name': 'Aristida basiramea', 'year': 1884, 'bibliography': 'Bot. Gaz. 9: 76 (1884)', 'author': 'Vasey', 'status': 'accepted', 'rank': 'species', 'family_common_name': 'Grass family', 'genus_id': 645, 'image_url': 'https://d2seqvvyy3b8p2.cloudfront.net/7942b533f3b98f15b0b24cec46f5ad6d.jpg', 'synonyms': [], 'genus': 'Aristida', 'family': 'Poaceae', 'links': {'self': '/api/v1/species/aristida-basiramea', 'plant': '/api/v1/plants/aristida-basiramea', 'genus': '/api/v1/genus/aristida'}}, {'id': 101321, 'common_name': None, 'slug': 'acacia-caesiella', 'scientific_name': 'Acacia caesiella', 'year': 1927, 'bibliography': 'J. Proc. Roy. Soc. New S. Wales 60: 180 (1927)', 'author': 'Maiden & Blakely', 'status': 'accepted', 'rank': 'species', 'family_common_name': 'Pea family', 'genus_id': 21, 'image_url': 'https://d2seqvvyy3b8p2.cloudfront.net/e7c3b7bc8cc94dc24330a7c08a9c0b9c.jpg', 'synonyms': ['Racosperma caesiellum'], 'genus': 'Acacia', 'family': 'Fabaceae', 'links': {'self': '/api/v1/species/acacia-caesiella', 'plant': '/api/v1/plants/acacia-caesiella', 'genus': '/api/v1/genus/acacia'}}, {'id': 1116986, 'common_name': None, 'slug': 'buddleja-nitida', 'scientific_name': 'Buddleja nitida', 'year': 1846, 'bibliography': 'A.P.de Candolle, Prodr. 10: 437 (1846)', 'author': 'Benth.', 'status': 'accepted', 'rank': 'species', 'family_common_name': None, 'genus_id': 1204, 'image_url': 'https://d2seqvvyy3b8p2.cloudfront.net/a1bfe1960be9c23d833d6eaed0a495ac.jpg', 'synonyms': ['Buddleja alpina'], 'genus': 'Buddleja', 'family': 'Scrophulariaceae', 'links': {'self': '/api/v1/species/buddleja-nitida', 'plant': '/api/v1/plants/buddleja-nitida', 'genus': '/api/v1/genus/buddleja'}}, {'id': 494457, 'common_name': None, 'slug': 'campanula-matritensis', 'scientific_name': 'Campanula matritensis', 'year': 1830, 'bibliography': 'Monogr. Campan.: 332 (1830)', 'author': 'A.DC.', 'status': 'accepted', 'rank': 'species', 'family_common_name': 'Bellflower family', 'genus_id': 791, 'image_url': None, 'synonyms': ['Campanula lusitanica subsp. matritensis'], 'genus': 'Campanula', 'family': 'Campanulaceae', 'links': {'self': '/api/v1/species/campanula-matritensis', 'plant': '/api/v1/plants/campanula-matritensis', 'genus': '/api/v1/genus/campanula'}}, {'id': 216805, 'common_name': None, 'slug': 'rauvolfia-sellowii', 'scientific_name': 'Rauvolfia sellowii', 'year': 1860, 'bibliography': 'C.F.P.von Martius & auct. suc. (eds.), Fl. Bras. 6(1): 33 (1860)', 'author': 'Müll.Arg.', 'status': 'accepted', 'rank': 'species', 'family_common_name': 'Dogbane family', 'genus_id': 5809, 'image_url': 'https://d2seqvvyy3b8p2.cloudfront.net/0c6b29f891edfd9aaeb62ea4fd038d2d.jpg', 'synonyms': ['Aspidosperma spegazinii'], 'genus': 'Rauvolfia', 'family': 'Apocynaceae', 'links': {'self': '/api/v1/species/rauvolfia-sellowii', 'plant': '/api/v1/plants/rauvolfia-sellowii', 'genus': '/api/v1/genus/rauvolfia'}}], 'links': {'self': '/api/v1/species?page=1500', 'first': '/api/v1/species?page=1', 'prev': '/api/v1/species?page=1499', 'next': '/api/v1/species?page=1501', 'last': '/api/v1/species?page=20348'}, 'meta': {'total': 406944}}\n",
      "2000 {'data': [{'id': 743194, 'common_name': None, 'slug': 'endiandra-cowleyana', 'scientific_name': 'Endiandra cowleyana', 'year': 1892, 'bibliography': 'Dept. Agric. Brisbane Bot. Bull. 5: 23 (1892)', 'author': 'F.M.Bailey', 'status': 'accepted', 'rank': 'species', 'family_common_name': 'Laurel family', 'genus_id': 2736, 'image_url': 'https://d2seqvvyy3b8p2.cloudfront.net/1c6f210c78710b8af4fcb73a6ec073bd.jpg', 'synonyms': [], 'genus': 'Endiandra', 'family': 'Lauraceae', 'links': {'self': '/api/v1/species/endiandra-cowleyana', 'plant': '/api/v1/plants/endiandra-cowleyana', 'genus': '/api/v1/genus/endiandra'}}, {'id': 977996, 'common_name': None, 'slug': 'hordeum-pubiflorum', 'scientific_name': 'Hordeum pubiflorum', 'year': 1847, 'bibliography': 'Fl. Antarct.: 388 (1847)', 'author': 'Hook.f.', 'status': 'accepted', 'rank': 'species', 'family_common_name': 'Grass family', 'genus_id': 2706, 'image_url': 'https://d2seqvvyy3b8p2.cloudfront.net/494fecfebb0f5d084b3f46f4e743d4d7.jpg', 'synonyms': ['Hordeum secalinum var. pubiflorum', 'Critesion pubiflorum', 'Hordeum jubatum f. violaceum', 'Hordeum jubatum var. pilosulum', 'Hordeum jubatum f. viride'], 'genus': 'Hordeum', 'family': 'Poaceae', 'links': {'self': '/api/v1/species/hordeum-pubiflorum', 'plant': '/api/v1/plants/hordeum-pubiflorum', 'genus': '/api/v1/genus/hordeum'}}, {'id': 244632, 'common_name': None, 'slug': 'baccharis-pentlandii', 'scientific_name': 'Baccharis pentlandii', 'year': 1836, 'bibliography': 'Prodr. 5: 416 (1836)', 'author': 'DC.', 'status': 'accepted', 'rank': 'species', 'family_common_name': 'Aster family', 'genus_id': 840, 'image_url': 'https://bs.plantnet.org/image/o/7dfe3e3f66f381dc36d6a0387f52db8fe3603086', 'synonyms': ['Baccharis fallax', 'Baccharis rubricaulis', 'Baccharis sculpta', 'Baccharis pentlandii subsp. sculpta', 'Pluchea montana'], 'genus': 'Baccharis', 'family': 'Asteraceae', 'links': {'self': '/api/v1/species/baccharis-pentlandii', 'plant': '/api/v1/plants/baccharis-pentlandii', 'genus': '/api/v1/genus/baccharis'}}, {'id': 118075, 'common_name': 'Coast whitethorn', 'slug': 'ceanothus-incanus', 'scientific_name': 'Ceanothus incanus', 'year': 1838, 'bibliography': 'Fl. N. Amer. 1: 265 (1838)', 'author': 'Torr. & A.Gray', 'status': 'accepted', 'rank': 'species', 'family_common_name': 'Buckthorn family', 'genus_id': 1555, 'image_url': 'https://d2seqvvyy3b8p2.cloudfront.net/74c6ab9e476ec6dbfd968c73cbcdf50a.jpg', 'synonyms': ['Ceanothus incanus f. spinossimus'], 'genus': 'Ceanothus', 'family': 'Rhamnaceae', 'links': {'self': '/api/v1/species/ceanothus-incanus', 'plant': '/api/v1/plants/ceanothus-incanus', 'genus': '/api/v1/genus/ceanothus'}}, {'id': 993416, 'common_name': None, 'slug': 'poa-novae-zelandiae', 'scientific_name': 'Poa novae-zelandiae', 'year': 1903, 'bibliography': 'Trans. & Proc. New Zealand Inst. 35: 381 (1903)', 'author': 'Hack.', 'status': 'accepted', 'rank': 'species', 'family_common_name': 'Grass family', 'genus_id': 1522, 'image_url': 'https://d2seqvvyy3b8p2.cloudfront.net/65e4c54587367e6d64de1ef06debc81b.jpg', 'synonyms': [], 'genus': 'Poa', 'family': 'Poaceae', 'links': {'self': '/api/v1/species/poa-novae-zelandiae', 'plant': '/api/v1/plants/poa-novae-zelandiae', 'genus': '/api/v1/genus/poa'}}, {'id': 1090821, 'common_name': None, 'slug': 'rogiera-cordata', 'scientific_name': 'Rogiera cordata', 'year': 1849, 'bibliography': 'Fl. Serres Jard. Eur. 5: 442B (1849)', 'author': '(Benth.) Planch.', 'status': 'accepted', 'rank': 'species', 'family_common_name': 'Madder family', 'genus_id': 16826, 'image_url': 'https://d2seqvvyy3b8p2.cloudfront.net/ed85b255bc55bb8178bc0fadf69bf6be.jpg', 'synonyms': ['Rondeletia brachistantha', 'Rondeletia cordata', 'Rondeletia aprica', 'Rogiera cordata var. longisepala', 'Rogiera intermedia', 'Rondeletia intermedia', 'Rogiera aprica', 'Rogiera brachistantha'], 'genus': 'Rogiera', 'family': 'Rubiaceae', 'links': {'self': '/api/v1/species/rogiera-cordata', 'plant': '/api/v1/plants/rogiera-cordata', 'genus': '/api/v1/genus/rogiera'}}, {'id': 1198242, 'common_name': None, 'slug': 'telaranea-diacantha', 'scientific_name': 'Telaranea diacantha', 'year': None, 'bibliography': 'Fieldiana, Bot., n.s., 44: 145, 145, 2004', 'author': 'J.J.Engel & G.L.Merr. (Mont.)', 'status': 'accepted', 'rank': 'species', 'family_common_name': None, 'genus_id': 6497, 'image_url': None, 'synonyms': [], 'genus': 'Telaranea', 'family': 'Lepidoziaceae', 'links': {'self': '/api/v1/species/telaranea-diacantha', 'plant': '/api/v1/plants/telaranea-diacantha', 'genus': '/api/v1/genus/telaranea'}}, {'id': 1102471, 'common_name': 'Feathered mosquitofern', 'slug': 'azolla-pinnata-subsp-africana', 'scientific_name': 'Azolla pinnata subsp. africana', 'year': 1992, 'bibliography': 'Bot. J. Linn. Soc. 109(3): 351 (1992)', 'author': '(Desv.) R.M.K.Saunders & K.Fowler', 'status': 'accepted', 'rank': 'ssp', 'family_common_name': None, 'genus_id': 838, 'image_url': None, 'synonyms': ['Azolla guineensis', 'Azolla africana'], 'genus': 'Azolla', 'family': 'Salviniaceae', 'links': {'self': '/api/v1/species/azolla-pinnata-subsp-africana', 'plant': '/api/v1/plants/azolla-pinnata', 'genus': '/api/v1/genus/azolla'}}, {'id': 1075550, 'common_name': None, 'slug': 'faramea-hyacinthina', 'scientific_name': 'Faramea hyacinthina', 'year': 1841, 'bibliography': 'Flora 24(2): 73 (1841)', 'author': 'Mart.', 'status': 'accepted', 'rank': 'species', 'family_common_name': 'Madder family', 'genus_id': 2983, 'image_url': 'https://d2seqvvyy3b8p2.cloudfront.net/f36657555bfbb0b07930724036034635.jpg', 'synonyms': [], 'genus': 'Faramea', 'family': 'Rubiaceae', 'links': {'self': '/api/v1/species/faramea-hyacinthina', 'plant': '/api/v1/plants/faramea-hyacinthina', 'genus': '/api/v1/genus/faramea'}}, {'id': 998037, 'common_name': 'Hollyleaf gilia', 'slug': 'gilia-latiflora-subsp-davyi', 'scientific_name': 'Gilia latiflora subsp. davyi', 'year': 1956, 'bibliography': 'Aliso 3: 273 (1956)', 'author': 'A.D.Grant & V.E.Grant (Milliken)', 'status': 'accepted', 'rank': 'ssp', 'family_common_name': 'Phlox family', 'genus_id': 238, 'image_url': None, 'synonyms': ['Gilia davyi'], 'genus': 'Gilia', 'family': 'Polemoniaceae', 'links': {'self': '/api/v1/species/gilia-latiflora-subsp-davyi', 'plant': '/api/v1/plants/gilia-latiflora', 'genus': '/api/v1/genus/gilia'}}, {'id': 1183775, 'common_name': None, 'slug': 'isopterygium-minutirameum', 'scientific_name': 'Isopterygium minutirameum', 'year': 1878, 'bibliography': 'Ber. Thätigk. St. Gallischen Naturwiss. Ges., 1876–77: 434 (Gen. Sp. Musc. 2: 1252), 434, 1878', 'author': 'Jaeger', 'status': 'accepted', 'rank': 'species', 'family_common_name': None, 'genus_id': 3499, 'image_url': None, 'synonyms': [], 'genus': 'Isopterygium', 'family': None, 'links': {'self': '/api/v1/species/isopterygium-minutirameum', 'plant': '/api/v1/plants/isopterygium-minutirameum', 'genus': '/api/v1/genus/isopterygium'}}, {'id': 942068, 'common_name': None, 'slug': 'pittosporum-rigidum', 'scientific_name': 'Pittosporum rigidum', 'year': 1852, 'bibliography': 'Fl. Nov.-Zel. 1: 22 (1852)', 'author': 'Hook.f.', 'status': 'accepted', 'rank': 'species', 'family_common_name': 'Pittosporum family', 'genus_id': 5398, 'image_url': 'https://d2seqvvyy3b8p2.cloudfront.net/f16acfeecdb004b8d8eb1d9937f5f363.jpg', 'synonyms': [], 'genus': 'Pittosporum', 'family': 'Pittosporaceae', 'links': {'self': '/api/v1/species/pittosporum-rigidum', 'plant': '/api/v1/plants/pittosporum-rigidum', 'genus': '/api/v1/genus/pittosporum'}}, {'id': 567732, 'common_name': None, 'slug': 'gahnia-javanica', 'scientific_name': 'Gahnia javanica', 'year': 1846, 'bibliography': 'A.Moritzi, Syst. Verz. Java: 98 (1846)', 'author': 'Moritzi', 'status': 'accepted', 'rank': 'species', 'family_common_name': 'Sedge family', 'genus_id': 3093, 'image_url': 'https://d2seqvvyy3b8p2.cloudfront.net/54ac0ab43d4fd37c90728aed2a457961.jpg', 'synonyms': ['Schoenus paniculatus', 'Gahnia castanea', 'Schoenus hasskarlii', 'Phacellanthus multiflorus', 'Syziganthus multiflorus', 'Mariscus javanicus'], 'genus': 'Gahnia', 'family': 'Cyperaceae', 'links': {'self': '/api/v1/species/gahnia-javanica', 'plant': '/api/v1/plants/gahnia-javanica', 'genus': '/api/v1/genus/gahnia'}}, {'id': 541323, 'common_name': None, 'slug': 'sedum-urvillei', 'scientific_name': 'Sedum urvillei', 'year': 1828, 'bibliography': 'Prodr. 3: 408 (1828)', 'author': 'DC.', 'status': 'accepted', 'rank': 'species', 'family_common_name': 'Stonecrop family', 'genus_id': 2395, 'image_url': 'https://d2seqvvyy3b8p2.cloudfront.net/88568fd4dbc79ec39fa1770124e73dbc.jpg', 'synonyms': ['Sedum stribrnyi', 'Sedum ponticum', 'Sedum urvillei subsp. sartorianum', 'Sedum hillebrandii', 'Sedum sartorianum'], 'genus': 'Sedum', 'family': 'Crassulaceae', 'links': {'self': '/api/v1/species/sedum-urvillei', 'plant': '/api/v1/plants/sedum-urvillei', 'genus': '/api/v1/genus/sedum'}}, {'id': 1188016, 'common_name': None, 'slug': 'logfia-neglecta', 'scientific_name': 'Logfia neglecta', 'year': 1838, 'bibliography': 'Prodr. 6: 248 (1838)', 'author': 'J.Holub (Soyer-Willemet)', 'status': 'accepted', 'rank': 'species', 'family_common_name': 'Aster family', 'genus_id': 4254, 'image_url': 'https://d2seqvvyy3b8p2.cloudfront.net/743f6627a0408bc4d24787b3f23f5018.jpg', 'synonyms': ['Logfia soyeri', 'Filago neglecta', 'Gnaphalium neglectum', 'Oglifa neglecta', 'Oglifa soyerii'], 'genus': 'Logfia', 'family': 'Asteraceae', 'links': {'self': '/api/v1/species/logfia-neglecta', 'plant': '/api/v1/plants/logfia-neglecta', 'genus': '/api/v1/genus/logfia'}}, {'id': 1030563, 'common_name': None, 'slug': 'grevillea-uncinulata', 'scientific_name': 'Grevillea uncinulata', 'year': 1904, 'bibliography': 'Bot. Jahrb. Syst. 35: 152 (1904)', 'author': 'Diels', 'status': 'accepted', 'rank': 'species', 'family_common_name': 'Protea family', 'genus_id': 3273, 'image_url': 'https://d2seqvvyy3b8p2.cloudfront.net/7b666ee563c53212d7603c810e6a94cc.jpg', 'synonyms': ['Hakea uncinulata', 'Grevillea oxystigma var. villosa'], 'genus': 'Grevillea', 'family': 'Proteaceae', 'links': {'self': '/api/v1/species/grevillea-uncinulata', 'plant': '/api/v1/plants/grevillea-uncinulata', 'genus': '/api/v1/genus/grevillea'}}, {'id': 816117, 'common_name': None, 'slug': 'luma-chequen', 'scientific_name': 'Luma chequen', 'year': 1854, 'bibliography': 'C. Wilkes, U.S. Expl. Exped., Phan. 15:536.  1854', 'author': 'A.Gray (Molina)', 'status': 'accepted', 'rank': 'species', 'family_common_name': 'Myrtle family', 'genus_id': 2904, 'image_url': 'https://d2seqvvyy3b8p2.cloudfront.net/c445496c0729951eb6b6cd32793985ff.jpg', 'synonyms': ['Myrceugenella chequen', 'Eugenia chequen', 'Myrtus gayana var. major', 'Eugenia pulchra', 'Luma gayana', 'Myrceugenella langerfeldtii', 'Myrceugenella gayana', 'Myrceugenella chequen var. myrtomimeta', 'Eugenia gayana', 'Myrtus uliginosa', 'Myrtus gayana', 'Eugenia chekan', 'Eugenia myrtomimeta', 'Eugenia bella'], 'genus': 'Luma', 'family': 'Myrtaceae', 'links': {'self': '/api/v1/species/luma-chequen', 'plant': '/api/v1/plants/luma-chequen', 'genus': '/api/v1/genus/luma'}}, {'id': 1060530, 'common_name': None, 'slug': 'rubus-fioniae', 'scientific_name': 'Rubus fioniae', 'year': 1887, 'bibliography': 'Bot. Tidsskr. 16: 115 (1887)', 'author': 'Frid.', 'status': 'accepted', 'rank': 'species', 'family_common_name': 'Rose family', 'genus_id': 2303, 'image_url': None, 'synonyms': [], 'genus': 'Rubus', 'family': 'Rosaceae', 'links': {'self': '/api/v1/species/rubus-fioniae', 'plant': '/api/v1/plants/rubus-fioniae', 'genus': '/api/v1/genus/rubus'}}, {'id': 808281, 'common_name': None, 'slug': 'virola-duckei', 'scientific_name': 'Virola duckei', 'year': 1938, 'bibliography': 'Smith AC (1938) [Introductory Information]. Brittonia 2(5): 393-510. doi: 10.2307/2804799.', 'author': 'A.C.Sm.', 'status': 'accepted', 'rank': 'species', 'family_common_name': 'Nutmeg family', 'genus_id': 6893, 'image_url': 'https://d2seqvvyy3b8p2.cloudfront.net/5e7bdf242cd0ba5fd6a78f82f0b27f24.jpg', 'synonyms': [], 'genus': 'Virola', 'family': 'Myristicaceae', 'links': {'self': '/api/v1/species/virola-duckei', 'plant': '/api/v1/plants/virola-duckei', 'genus': '/api/v1/genus/virola'}}, {'id': 1158584, 'common_name': 'Maracaibo-lignum-vitae', 'slug': 'plectrocarpa-arborea', 'scientific_name': 'Plectrocarpa arborea', 'year': 2018, 'bibliography': 'Global Fl. 4: 92 (2018)', 'author': '(Jacq.) Christenh. & Byng', 'status': 'accepted', 'rank': 'species', 'family_common_name': 'Creosote-bush family', 'genus_id': 17915, 'image_url': 'https://bs.plantnet.org/image/o/ef673d3a31ce9515bfbd509ba210317a5fbd5923', 'synonyms': ['Bulnesia arborea', 'Zygophyllum arboreum', 'Gonopterodendron arboreum', 'Guaiacum arboreum'], 'genus': 'Plectrocarpa', 'family': 'Zygophyllaceae', 'links': {'self': '/api/v1/species/plectrocarpa-arborea', 'plant': '/api/v1/plants/plectrocarpa-arborea', 'genus': '/api/v1/genus/plectrocarpa'}}], 'links': {'self': '/api/v1/species?page=2000', 'first': '/api/v1/species?page=1', 'prev': '/api/v1/species?page=1999', 'next': '/api/v1/species?page=2001', 'last': '/api/v1/species?page=20348'}, 'meta': {'total': 406944}}\n",
      "2500 {'data': [{'id': 977886, 'common_name': None, 'slug': 'hordeum-capense', 'scientific_name': 'Hordeum capense', 'year': 1794, 'bibliography': 'Prodr. Pl. Cap.: 23 (1794)', 'author': 'Thunb.', 'status': 'accepted', 'rank': 'species', 'family_common_name': 'Grass family', 'genus_id': 2706, 'image_url': 'https://d2seqvvyy3b8p2.cloudfront.net/cdcdc345238b859eae51d6bc7b4c3e41.jpg', 'synonyms': ['Critesion capense'], 'genus': 'Hordeum', 'family': 'Poaceae', 'links': {'self': '/api/v1/species/hordeum-capense', 'plant': '/api/v1/plants/hordeum-capense', 'genus': '/api/v1/genus/hordeum'}}, {'id': 977428, 'common_name': None, 'slug': 'coelachne-africana', 'scientific_name': 'Coelachne africana', 'year': 1916, 'bibliography': 'R.E.Fries, Wiss. Erg. Schwed. Rhodesia-Kongo-Exp. 1911-1912, 1: 208 (1916)', 'author': 'Pilg.', 'status': 'accepted', 'rank': 'species', 'family_common_name': 'Grass family', 'genus_id': 16094, 'image_url': 'https://d2seqvvyy3b8p2.cloudfront.net/c06bbbf7986878752f0681e374d7ec0a.jpg', 'synonyms': ['Coelachne paludosa'], 'genus': 'Coelachne', 'family': 'Poaceae', 'links': {'self': '/api/v1/species/coelachne-africana', 'plant': '/api/v1/plants/coelachne-africana', 'genus': '/api/v1/genus/coelachne'}}, {'id': 1186505, 'common_name': None, 'slug': 'lejeunea-parva', 'scientific_name': 'Lejeunea parva', 'year': None, 'bibliography': 'Misc. Bryol. Lichenol., 5: 178, 178, 1971', 'author': 'Mizut. (S.Hatt.)', 'status': 'accepted', 'rank': 'species', 'family_common_name': None, 'genus_id': 4038, 'image_url': None, 'synonyms': [], 'genus': 'Lejeunea', 'family': 'Lejeuneaceae', 'links': {'self': '/api/v1/species/lejeunea-parva', 'plant': '/api/v1/plants/lejeunea-parva', 'genus': '/api/v1/genus/lejeunea'}}, {'id': 1153202, 'common_name': None, 'slug': 'qualea-dinizii', 'scientific_name': 'Qualea dinizii', 'year': 1915, 'bibliography': 'Arch. Jard. Bot. Rio de Janeiro 1: 49 (1915)', 'author': 'Ducke', 'status': 'accepted', 'rank': 'species', 'family_common_name': None, 'genus_id': 13745, 'image_url': 'https://d2seqvvyy3b8p2.cloudfront.net/6a258e7357ceee06d1d494960634fbef.jpg', 'synonyms': [], 'genus': 'Qualea', 'family': 'Vochysiaceae', 'links': {'self': '/api/v1/species/qualea-dinizii', 'plant': '/api/v1/plants/qualea-dinizii', 'genus': '/api/v1/genus/qualea'}}, {'id': 1226478, 'common_name': None, 'slug': 'oreogrammitis-congener', 'scientific_name': 'Oreogrammitis congener', 'year': 1828, 'bibliography': 'Enum. Pl. Javae 2: 115 (1828)', 'author': 'Parris (Blume)', 'status': 'accepted', 'rank': 'species', 'family_common_name': 'Polypody family', 'genus_id': 5002, 'image_url': 'https://d2seqvvyy3b8p2.cloudfront.net/fb4463968a3b4cb2d29f4347b23e5c99.jpg', 'synonyms': ['Polypodium duplopilosum', 'Polypodium alatellum', 'Grammitis petrophila', 'Polypodium congenerum', 'Oreogrammitis congener var. polytricha', 'Grammitis duplopilosa', 'Grammitis congener', 'Polypodium brevipilum', 'Grammitis brevipila'], 'genus': 'Oreogrammitis', 'family': 'Polypodiaceae', 'links': {'self': '/api/v1/species/oreogrammitis-congener', 'plant': '/api/v1/plants/oreogrammitis-congener', 'genus': '/api/v1/genus/oreogrammitis'}}, {'id': 1182592, 'common_name': None, 'slug': 'ginkgo-adiantoides', 'scientific_name': 'Ginkgo adiantoides', 'year': None, 'bibliography': None, 'author': 'Heer (Unger)', 'status': 'accepted', 'rank': 'species', 'family_common_name': 'Ginkgo family', 'genus_id': 3182, 'image_url': None, 'synonyms': [], 'genus': 'Ginkgo', 'family': 'Ginkgoaceae', 'links': {'self': '/api/v1/species/ginkgo-adiantoides', 'plant': '/api/v1/plants/ginkgo-adiantoides', 'genus': '/api/v1/genus/ginkgo'}}, {'id': 163990, 'common_name': 'Manyflower beardtongue', 'slug': 'penstemon-multiflorus', 'scientific_name': 'Penstemon multiflorus', 'year': 1903, 'bibliography': 'Fl. S.E. U.S.: 1061 (1903)', 'author': '(Benth.) Chapm. ex Small', 'status': 'accepted', 'rank': 'species', 'family_common_name': 'Plantain family', 'genus_id': 3877, 'image_url': None, 'synonyms': [], 'genus': 'Penstemon', 'family': 'Plantaginaceae', 'links': {'self': '/api/v1/species/penstemon-multiflorus', 'plant': '/api/v1/plants/penstemon-multiflorus', 'genus': '/api/v1/genus/penstemon'}}, {'id': 498320, 'common_name': None, 'slug': 'lobelia-wollastonii', 'scientific_name': 'Lobelia wollastonii', 'year': 1908, 'bibliography': 'J. Linn. Soc., Bot. 38: 265 (1908)', 'author': 'Baker f.', 'status': 'accepted', 'rank': 'species', 'family_common_name': 'Bellflower family', 'genus_id': 4242, 'image_url': 'https://d2seqvvyy3b8p2.cloudfront.net/be76e7daf936af4a0839bdb552e9639d.jpg', 'synonyms': [], 'genus': 'Lobelia', 'family': 'Campanulaceae', 'links': {'self': '/api/v1/species/lobelia-wollastonii', 'plant': '/api/v1/plants/lobelia-wollastonii', 'genus': '/api/v1/genus/lobelia'}}, {'id': 657276, 'common_name': None, 'slug': 'eriosema-defoliatum', 'scientific_name': 'Eriosema defoliatum', 'year': 1849, 'bibliography': 'Linnaea 22: 524 (1849)', 'author': 'Benth.', 'status': 'accepted', 'rank': 'species', 'family_common_name': 'Pea family', 'genus_id': 2851, 'image_url': 'https://d2seqvvyy3b8p2.cloudfront.net/1142853d7105016ffb1f0fabcd639eed.jpg', 'synonyms': [], 'genus': 'Eriosema', 'family': 'Fabaceae', 'links': {'self': '/api/v1/species/eriosema-defoliatum', 'plant': '/api/v1/plants/eriosema-defoliatum', 'genus': '/api/v1/genus/eriosema'}}, {'id': 1030813, 'common_name': None, 'slug': 'hakea-platysperma', 'scientific_name': 'Hakea platysperma', 'year': 1841, 'bibliography': \"Hooker's Icon. Pl. 5: t. 433 (1841)\", 'author': 'Hook.', 'status': 'accepted', 'rank': 'species', 'family_common_name': 'Protea family', 'genus_id': 3362, 'image_url': 'https://d2seqvvyy3b8p2.cloudfront.net/de0fb511e3b7255be2f42d551cf6f3f7.jpg', 'synonyms': [], 'genus': 'Hakea', 'family': 'Proteaceae', 'links': {'self': '/api/v1/species/hakea-platysperma', 'plant': '/api/v1/plants/hakea-platysperma', 'genus': '/api/v1/genus/hakea'}}, {'id': 930428, 'common_name': None, 'slug': 'discocarpus-essequeboensis', 'scientific_name': 'Discocarpus essequeboensis', 'year': 1843, 'bibliography': 'London J. Bot. 2: 52 (1843)', 'author': 'Klotzsch', 'status': 'accepted', 'rank': 'species', 'family_common_name': None, 'genus_id': 15716, 'image_url': 'https://d2seqvvyy3b8p2.cloudfront.net/6920c64ff4f5c6eeb10f44b54a1abb9b.jpg', 'synonyms': ['Discocarpus brasiliensis'], 'genus': 'Discocarpus', 'family': 'Phyllanthaceae', 'links': {'self': '/api/v1/species/discocarpus-essequeboensis', 'plant': '/api/v1/plants/discocarpus-essequeboensis', 'genus': '/api/v1/genus/discocarpus'}}, {'id': 686981, 'common_name': None, 'slug': 'geranium-hernandesii', 'scientific_name': 'Geranium hernandesii', 'year': 1824, 'bibliography': 'Prodr. 1: 640 (1824)', 'author': 'Moc. & Sessé ex DC.', 'status': 'accepted', 'rank': 'species', 'family_common_name': 'Geranium family', 'genus_id': 3163, 'image_url': None, 'synonyms': ['Geranium hernandesii var. michoacanum', 'Geranium aristisepalum', 'Geranium aristisepalum var. michoacanum'], 'genus': 'Geranium', 'family': 'Geraniaceae', 'links': {'self': '/api/v1/species/geranium-hernandesii', 'plant': '/api/v1/plants/geranium-hernandesii', 'genus': '/api/v1/genus/geranium'}}, {'id': 910434, 'common_name': None, 'slug': 'neobartsia-inaequalis', 'scientific_name': 'Neobartsia inaequalis', 'year': 2016, 'bibliography': 'Syst. Bot. 41: 680 (2016)', 'author': 'Uribe-Convers & Tank (Benth.)', 'status': 'accepted', 'rank': 'species', 'family_common_name': 'Broom-rape family', 'genus_id': 15508, 'image_url': 'https://d2seqvvyy3b8p2.cloudfront.net/6bd24013d129a199cce913da147b7e08.jpg', 'synonyms': ['Bartsia inaequalis', 'Bartsia laxiflora'], 'genus': 'Neobartsia', 'family': 'Orobanchaceae', 'links': {'self': '/api/v1/species/neobartsia-inaequalis', 'plant': '/api/v1/plants/neobartsia-inaequalis', 'genus': '/api/v1/genus/neobartsia'}}, {'id': 975740, 'common_name': None, 'slug': 'paspalum-ceresia', 'scientific_name': 'Paspalum ceresia', 'year': 1925, 'bibliography': 'Contr. U.S. Natl. Herb. 24: 153 (1925)', 'author': '(Kuntze) Chase', 'status': 'accepted', 'rank': 'species', 'family_common_name': 'Grass family', 'genus_id': 2451, 'image_url': 'https://d2seqvvyy3b8p2.cloudfront.net/2e85378920d7a0d26abca91d51e597cd.jpg', 'synonyms': ['Paspalum membranaceum var. aequiglume', 'Paspalum membranaceum var. inaequiglume', 'Ceresia elegans', 'Ceresia membranacea', 'Panicum ceresia'], 'genus': 'Paspalum', 'family': 'Poaceae', 'links': {'self': '/api/v1/species/paspalum-ceresia', 'plant': '/api/v1/plants/paspalum-ceresia', 'genus': '/api/v1/genus/paspalum'}}, {'id': 178632, 'common_name': 'Forest sandalwood', 'slug': 'santalum-freycinetianum-var-pyrularium', 'scientific_name': 'Santalum freycinetianum var. pyrularium', 'year': 1981, 'bibliography': 'Pacific Sci. 31:48.  1981 (\"1980\")', 'author': 'L.Stemmermann (Gray)', 'status': 'accepted', 'rank': 'var', 'family_common_name': 'Sandalwood family', 'genus_id': 5990, 'image_url': None, 'synonyms': ['Santalum majus', 'Santalum pyrularium', 'Santalum involutum', 'Santalum pyrularium var. sphaerolithos'], 'genus': 'Santalum', 'family': 'Santalaceae', 'links': {'self': '/api/v1/species/santalum-freycinetianum-var-pyrularium', 'plant': '/api/v1/plants/santalum-freycinetianum', 'genus': '/api/v1/genus/santalum'}}, {'id': 1254158, 'common_name': None, 'slug': 'dryas-octopetala-subsp-oxyodonta', 'scientific_name': 'Dryas octopetala subsp. oxyodonta', 'year': 1929, 'bibliography': 'Izv. Glavn. Bot. Sada S.S.S.R. 28: 313 (1929)', 'author': 'Hult. (Juz.)', 'status': 'accepted', 'rank': 'ssp', 'family_common_name': 'Rose family', 'genus_id': 2569, 'image_url': None, 'synonyms': ['Dryas oxyodonta'], 'genus': 'Dryas', 'family': 'Rosaceae', 'links': {'self': '/api/v1/species/dryas-octopetala-subsp-oxyodonta', 'plant': '/api/v1/plants/dryas-octopetala', 'genus': '/api/v1/genus/dryas'}}, {'id': 1076437, 'common_name': None, 'slug': 'galium-tomentosum', 'scientific_name': 'Galium tomentosum', 'year': 1813, 'bibliography': 'Fl. Cap. 1: 551 (1813)', 'author': 'Thunb.', 'status': 'accepted', 'rank': 'species', 'family_common_name': 'Madder family', 'genus_id': 2120, 'image_url': 'https://bs.plantnet.org/image/o/a9343f5a67022c0c68b5cf9df22e68747c1862d2', 'synonyms': ['Galium glabrum', 'Galium gonzaloi', 'Galium villosum', 'Galium maritimum'], 'genus': 'Galium', 'family': 'Rubiaceae', 'links': {'self': '/api/v1/species/galium-tomentosum', 'plant': '/api/v1/plants/galium-tomentosum', 'genus': '/api/v1/genus/galium'}}, {'id': 993215, 'common_name': None, 'slug': 'poa-gymnantha', 'scientific_name': 'Poa gymnantha', 'year': 1920, 'bibliography': 'Beibl. Bot. Jahrb. Syst. 123: 28 (1920)', 'author': 'Pilg.', 'status': 'accepted', 'rank': 'species', 'family_common_name': 'Grass family', 'genus_id': 1522, 'image_url': 'https://bs.plantnet.org/image/o/85cef24dc129c46d658b54134177f015bb844a86', 'synonyms': ['Poa gymnantha var. aperta', 'Poa pseudoaequigluma', 'Poa ovata'], 'genus': 'Poa', 'family': 'Poaceae', 'links': {'self': '/api/v1/species/poa-gymnantha', 'plant': '/api/v1/plants/poa-gymnantha', 'genus': '/api/v1/genus/poa'}}, {'id': 639307, 'common_name': None, 'slug': 'lecointea-amazonica', 'scientific_name': 'Lecointea amazonica', 'year': 1922, 'bibliography': 'Arch. Jard. Bot. Rio de Janeiro 3: 129 (1922)', 'author': 'Ducke', 'status': 'accepted', 'rank': 'species', 'family_common_name': 'Pea family', 'genus_id': 12981, 'image_url': 'https://bs.plantnet.org/image/o/32e8f1f81d5616bb37c21277628f75b973a4dad0', 'synonyms': ['Beliceodendron tango', 'Zollernia tango', 'Lecointea tango'], 'genus': 'Lecointea', 'family': 'Fabaceae', 'links': {'self': '/api/v1/species/lecointea-amazonica', 'plant': '/api/v1/plants/lecointea-amazonica', 'genus': '/api/v1/genus/lecointea'}}, {'id': 483964, 'common_name': None, 'slug': 'stenocereus-queretaroensis', 'scientific_name': 'Stenocereus queretaroensis', 'year': 1961, 'bibliography': 'Bot. Stud. 12: 101 (1961)', 'author': '(F.A.C.Weber ex Mathsson) Buxb.', 'status': 'accepted', 'rank': 'species', 'family_common_name': 'Trefle family', 'genus_id': 1622, 'image_url': 'https://bs.plantnet.org/image/o/1bb5e9d589f3867460b55d3c73e15d7a007f1df7', 'synonyms': ['Pachycereus queretarensis', 'Glandulicereus queretaroensis', 'Lemaireocereus queretarensis', 'Cereus queretaroensis', 'Ritterocereus queretaroensis', 'Rathbunia queretaroensis'], 'genus': 'Stenocereus', 'family': 'Cactaceae', 'links': {'self': '/api/v1/species/stenocereus-queretaroensis', 'plant': '/api/v1/plants/stenocereus-queretaroensis', 'genus': '/api/v1/genus/stenocereus'}}], 'links': {'self': '/api/v1/species?page=2500', 'first': '/api/v1/species?page=1', 'prev': '/api/v1/species?page=2499', 'next': '/api/v1/species?page=2501', 'last': '/api/v1/species?page=20348'}, 'meta': {'total': 406944}}\n",
      "3000 {'data': [{'id': 1030430, 'common_name': None, 'slug': 'grevillea-polybractea', 'scientific_name': 'Grevillea polybractea', 'year': 1927, 'bibliography': 'Vict. Naturalist 44: 139 (1927)', 'author': 'H.B.Will.', 'status': 'accepted', 'rank': 'species', 'family_common_name': 'Protea family', 'genus_id': 3273, 'image_url': None, 'synonyms': ['Hakea polybractea'], 'genus': 'Grevillea', 'family': 'Proteaceae', 'links': {'self': '/api/v1/species/grevillea-polybractea', 'plant': '/api/v1/plants/grevillea-polybractea', 'genus': '/api/v1/genus/grevillea'}}, {'id': 624733, 'common_name': None, 'slug': 'albizia-tulearensis', 'scientific_name': 'Albizia tulearensis', 'year': 1949, 'bibliography': 'Notul. Syst. (Paris) 13: 336 (1949)', 'author': 'R.Vig.', 'status': 'accepted', 'rank': 'species', 'family_common_name': 'Pea family', 'genus_id': 215, 'image_url': 'https://d2seqvvyy3b8p2.cloudfront.net/bb6df566a0690bfe431e700d9c6b391c.jpg', 'synonyms': [], 'genus': 'Albizia', 'family': 'Fabaceae', 'links': {'self': '/api/v1/species/albizia-tulearensis', 'plant': '/api/v1/plants/albizia-tulearensis', 'genus': '/api/v1/genus/albizia'}}, {'id': 1089821, 'common_name': None, 'slug': 'psychotria-nubiphila', 'scientific_name': 'Psychotria nubiphila', 'year': 1980, 'bibliography': 'Ann. Missouri Bot. Gard. 67: 403 (1980)', 'author': 'Dwyer', 'status': 'accepted', 'rank': 'species', 'family_common_name': 'Madder family', 'genus_id': 1592, 'image_url': None, 'synonyms': [], 'genus': 'Psychotria', 'family': 'Rubiaceae', 'links': {'self': '/api/v1/species/psychotria-nubiphila', 'plant': '/api/v1/plants/psychotria-nubiphila', 'genus': '/api/v1/genus/psychotria'}}, {'id': 1160490, 'common_name': 'Hairy starviolet', 'slug': 'exallage-costata', 'scientific_name': 'Exallage costata', 'year': None, 'bibliography': None, 'author': 'Bremek. (Roxb.)', 'status': 'accepted', 'rank': 'species', 'family_common_name': 'Madder family', 'genus_id': 2959, 'image_url': None, 'synonyms': ['Oldenlandia vestita', 'Hedyotis vestita ex', 'Hedyotis vestita'], 'genus': 'Exallage', 'family': 'Rubiaceae', 'links': {'self': '/api/v1/species/exallage-costata', 'plant': '/api/v1/plants/exallage-costata', 'genus': '/api/v1/genus/exallage'}}, {'id': 899757, 'common_name': None, 'slug': 'pterostylis-picta', 'scientific_name': 'Pterostylis picta', 'year': 1989, 'bibliography': 'Austral. Orchid Res. 1: 125 (1989)', 'author': 'M.A.Clem.', 'status': 'accepted', 'rank': 'species', 'family_common_name': None, 'genus_id': 15055, 'image_url': 'https://d2seqvvyy3b8p2.cloudfront.net/c8b4756f91dbe7ec9f385594064c74b7.jpg', 'synonyms': ['Oligochaetochilus pictus'], 'genus': 'Pterostylis', 'family': 'Orchidaceae', 'links': {'self': '/api/v1/species/pterostylis-picta', 'plant': '/api/v1/plants/pterostylis-picta', 'genus': '/api/v1/genus/pterostylis'}}, {'id': 1160083, 'common_name': \"Ammons' tortula moss\", 'slug': 'syntrichia-ammonsiana', 'scientific_name': 'Syntrichia ammonsiana', 'year': 1992, 'bibliography': 'Fragm. Florist. Geobot., 37: 212, 212, 1992', 'author': 'Ochyra', 'status': 'accepted', 'rank': 'species', 'family_common_name': None, 'genus_id': 890, 'image_url': None, 'synonyms': ['Tortula ammonsiana &', 'Tortula ammonsiana'], 'genus': 'Syntrichia', 'family': None, 'links': {'self': '/api/v1/species/syntrichia-ammonsiana', 'plant': '/api/v1/plants/syntrichia-ammonsiana', 'genus': '/api/v1/genus/syntrichia'}}, {'id': 1000387, 'common_name': None, 'slug': 'polygala-ephedroides', 'scientific_name': 'Polygala ephedroides', 'year': 1822, 'bibliography': 'Trav. S. Africa 1: 465 (1822)', 'author': 'Burch.', 'status': 'accepted', 'rank': 'species', 'family_common_name': 'Milkwort family', 'genus_id': 5512, 'image_url': 'https://d2seqvvyy3b8p2.cloudfront.net/5646b32fff0c9ef54f06d7cd7e117517.jpg', 'synonyms': ['Polygala xerophytica'], 'genus': 'Polygala', 'family': 'Polygalaceae', 'links': {'self': '/api/v1/species/polygala-ephedroides', 'plant': '/api/v1/plants/polygala-ephedroides', 'genus': '/api/v1/genus/polygala'}}, {'id': 1028940, 'common_name': None, 'slug': 'conospermum-incurvum', 'scientific_name': 'Conospermum incurvum', 'year': 1839, 'bibliography': 'Sketch Veg. Swan R.: 30 (1839)', 'author': 'Lindl.', 'status': 'accepted', 'rank': 'species', 'family_common_name': 'Protea family', 'genus_id': 16514, 'image_url': None, 'synonyms': [], 'genus': 'Conospermum', 'family': 'Proteaceae', 'links': {'self': '/api/v1/species/conospermum-incurvum', 'plant': '/api/v1/plants/conospermum-incurvum', 'genus': '/api/v1/genus/conospermum'}}, {'id': 1235705, 'common_name': None, 'slug': 'croton-soliman', 'scientific_name': 'Croton soliman', 'year': 1831, 'bibliography': 'Linnaea 6: 361 (1831)', 'author': 'Schltdl. & Cham.', 'status': 'accepted', 'rank': 'species', 'family_common_name': 'Spurge family', 'genus_id': 1441, 'image_url': None, 'synonyms': ['Oxydectes soliman'], 'genus': 'Croton', 'family': 'Euphorbiaceae', 'links': {'self': '/api/v1/species/croton-soliman', 'plant': '/api/v1/plants/croton-soliman', 'genus': '/api/v1/genus/croton'}}, {'id': 1130423, 'common_name': None, 'slug': 'solanum-depauperatum', 'scientific_name': 'Solanum depauperatum', 'year': 1852, 'bibliography': 'Prodr. 13(1): 227 (1852)', 'author': 'Dunal', 'status': 'accepted', 'rank': 'species', 'family_common_name': 'Potato family', 'genus_id': 4329, 'image_url': 'https://d2seqvvyy3b8p2.cloudfront.net/01b0f50b8e50a3ccffd582f59ec3eae8.jpg', 'synonyms': [], 'genus': 'Solanum', 'family': 'Solanaceae', 'links': {'self': '/api/v1/species/solanum-depauperatum', 'plant': '/api/v1/plants/solanum-depauperatum', 'genus': '/api/v1/genus/solanum'}}, {'id': 832386, 'common_name': None, 'slug': 'epilobium-microphyllum', 'scientific_name': 'Epilobium microphyllum', 'year': 1832, 'bibliography': \"J.S.C.Dumont d'Urville, Voy. Astrolabe 1: 325 (1832)\", 'author': 'A.Rich.', 'status': 'accepted', 'rank': 'species', 'family_common_name': 'Evening Primrose family', 'genus_id': 1670, 'image_url': None, 'synonyms': [], 'genus': 'Epilobium', 'family': 'Onagraceae', 'links': {'self': '/api/v1/species/epilobium-microphyllum', 'plant': '/api/v1/plants/epilobium-microphyllum', 'genus': '/api/v1/genus/epilobium'}}, {'id': 947838, 'common_name': None, 'slug': 'veronica-japonensis', 'scientific_name': 'Veronica japonensis', 'year': 1912, 'bibliography': 'Bot. Mag. (Tokyo) 26: 148 (1912)', 'author': 'Makino', 'status': 'accepted', 'rank': 'species', 'family_common_name': 'Plantain family', 'genus_id': 3419, 'image_url': None, 'synonyms': [], 'genus': 'Veronica', 'family': 'Plantaginaceae', 'links': {'self': '/api/v1/species/veronica-japonensis', 'plant': '/api/v1/plants/veronica-japonensis', 'genus': '/api/v1/genus/veronica'}}, {'id': 1098823, 'common_name': None, 'slug': 'meliosma-pinnata-subsp-macrophylla', 'scientific_name': 'Meliosma pinnata subsp. macrophylla', 'year': 1971, 'bibliography': 'Blumea 19: 510 (1971)', 'author': 'Beusekom (Merr.)', 'status': 'accepted', 'rank': 'ssp', 'family_common_name': 'Sabia family', 'genus_id': 4546, 'image_url': None, 'synonyms': ['Meliosma tongcalingii', 'Meliosma megalobotrys', 'Meliosma macrophylla'], 'genus': 'Meliosma', 'family': 'Sabiaceae', 'links': {'self': '/api/v1/species/meliosma-pinnata-subsp-macrophylla', 'plant': '/api/v1/plants/meliosma-pinnata', 'genus': '/api/v1/genus/meliosma'}}, {'id': 932019, 'common_name': None, 'slug': 'physena-sessiliflora', 'scientific_name': 'Physena sessiliflora', 'year': 1857, 'bibliography': 'Ann. Sci. Nat., Bot., sér. 4, 8: 55 (1857)', 'author': 'Tul.', 'status': 'accepted', 'rank': 'species', 'family_common_name': None, 'genus_id': 15731, 'image_url': None, 'synonyms': [], 'genus': 'Physena', 'family': 'Physenaceae', 'links': {'self': '/api/v1/species/physena-sessiliflora', 'plant': '/api/v1/plants/physena-sessiliflora', 'genus': '/api/v1/genus/physena'}}, {'id': 443650, 'common_name': None, 'slug': 'vernonanthura-oaxacana', 'scientific_name': 'Vernonanthura oaxacana', 'year': 1992, 'bibliography': 'Phytologia 73(2): 72 (1992)', 'author': '(Sch.Bip. ex Klatt) H.Rob.', 'status': 'accepted', 'rank': 'species', 'family_common_name': 'Aster family', 'genus_id': 9575, 'image_url': None, 'synonyms': ['Vernonia oaxacana'], 'genus': 'Vernonanthura', 'family': 'Asteraceae', 'links': {'self': '/api/v1/species/vernonanthura-oaxacana', 'plant': '/api/v1/plants/vernonanthura-oaxacana', 'genus': '/api/v1/genus/vernonanthura'}}, {'id': 923470, 'common_name': None, 'slug': 'turnera-coerulea-var-surinamensis', 'scientific_name': 'Turnera coerulea var. surinamensis', 'year': 1996, 'bibliography': 'Bonplandia 9: 95-102 1996', 'author': 'M.M.Arbo & Av.Fernández (Urb.)', 'status': 'accepted', 'rank': 'var', 'family_common_name': 'Passion-flower family', 'genus_id': 5391, 'image_url': None, 'synonyms': ['Turnera lutescens', 'Turnera ulmifolia var. surinamensis'], 'genus': 'Turnera', 'family': 'Passifloraceae', 'links': {'self': '/api/v1/species/turnera-coerulea-var-surinamensis', 'plant': '/api/v1/plants/turnera-coerulea', 'genus': '/api/v1/genus/turnera'}}, {'id': 110793, 'common_name': 'Textile bamboo', 'slug': 'bambusa-textilis', 'scientific_name': 'Bambusa textilis', 'year': 1940, 'bibliography': 'Lingnan Univ. Sci. Bull. 9: 14 (1940)', 'author': 'McClure', 'status': 'accepted', 'rank': 'species', 'family_common_name': 'Grass family', 'genus_id': 711, 'image_url': None, 'synonyms': ['Bambusa textilis var. purpurascens', 'Bambusa minutiligulata', 'Bambusa textilis f. purpurascens', 'Bambusa textilis var. pubescens', 'Bambusa varioaurita', 'Bambusa annulata', 'Bambusa glaucescens var. annulata'], 'genus': 'Bambusa', 'family': 'Poaceae', 'links': {'self': '/api/v1/species/bambusa-textilis', 'plant': '/api/v1/plants/bambusa-textilis', 'genus': '/api/v1/genus/bambusa'}}, {'id': 763797, 'common_name': None, 'slug': 'magnolia-sharpii', 'scientific_name': 'Magnolia sharpii', 'year': 1955, 'bibliography': 'Anales Inst. Biol. Univ. Nac. México 26: 79 (1955)', 'author': 'V.V.Miranda', 'status': 'accepted', 'rank': 'species', 'family_common_name': 'Magnolia family', 'genus_id': 2649, 'image_url': None, 'synonyms': [], 'genus': 'Magnolia', 'family': 'Magnoliaceae', 'links': {'self': '/api/v1/species/magnolia-sharpii', 'plant': '/api/v1/plants/magnolia-sharpii', 'genus': '/api/v1/genus/magnolia'}}, {'id': 1255910, 'common_name': 'Amur peppervine', 'slug': 'ampelopsis-heterophylla-var-kulingensis', 'scientific_name': 'Ampelopsis heterophylla var. kulingensis', 'year': 1977, 'bibliography': 'J. Jap. Bot. 52: 31 (1977)', 'author': 'C.L.Li (Rehder)', 'status': 'accepted', 'rank': 'var', 'family_common_name': 'Grape family', 'genus_id': 356, 'image_url': None, 'synonyms': ['Ampelopsis glandulosa var. kulingensis'], 'genus': 'Ampelopsis', 'family': 'Vitaceae', 'links': {'self': '/api/v1/species/ampelopsis-heterophylla-var-kulingensis', 'plant': '/api/v1/plants/ampelopsis-heterophylla', 'genus': '/api/v1/genus/ampelopsis'}}, {'id': 734717, 'common_name': None, 'slug': 'salvia-omerocalyx', 'scientific_name': 'Salvia omerocalyx', 'year': 1918, 'bibliography': 'Bot. Mag. (Tokyo) 32: 252 (1918)', 'author': 'Hayata', 'status': 'accepted', 'rank': 'species', 'family_common_name': 'Mint family', 'genus_id': 5971, 'image_url': None, 'synonyms': [], 'genus': 'Salvia', 'family': 'Lamiaceae', 'links': {'self': '/api/v1/species/salvia-omerocalyx', 'plant': '/api/v1/plants/salvia-omerocalyx', 'genus': '/api/v1/genus/salvia'}}], 'links': {'self': '/api/v1/species?page=3000', 'first': '/api/v1/species?page=1', 'prev': '/api/v1/species?page=2999', 'next': '/api/v1/species?page=3001', 'last': '/api/v1/species?page=20348'}, 'meta': {'total': 406944}}\n"
     ]
    },
    {
     "ename": "KeyboardInterrupt",
     "evalue": "",
     "output_type": "error",
     "traceback": [
      "\u001b[0;31m---------------------------------------------------------------------------\u001b[0m",
      "\u001b[0;31mKeyboardInterrupt\u001b[0m                         Traceback (most recent call last)",
      "\u001b[0;32m<ipython-input-79-e1dc5aa1fcb1>\u001b[0m in \u001b[0;36m<module>\u001b[0;34m\u001b[0m\n\u001b[1;32m      3\u001b[0m \u001b[0;32mfor\u001b[0m \u001b[0mpage\u001b[0m \u001b[0;32min\u001b[0m \u001b[0mrange\u001b[0m\u001b[0;34m(\u001b[0m\u001b[0;36m1101\u001b[0m\u001b[0;34m,\u001b[0m\u001b[0;36m20348\u001b[0m\u001b[0;34m)\u001b[0m\u001b[0;34m:\u001b[0m\u001b[0;34m\u001b[0m\u001b[0;34m\u001b[0m\u001b[0m\n\u001b[1;32m      4\u001b[0m     \u001b[0mbase\u001b[0m \u001b[0;34m=\u001b[0m \u001b[0;34mf'https://trefle.io/api/v1/species?token=QJ34dZabNm5jkLoTOSKNd0zPIQb_GKDbh1_w8TZAxdk&page={page}'\u001b[0m\u001b[0;34m\u001b[0m\u001b[0;34m\u001b[0m\u001b[0m\n\u001b[0;32m----> 5\u001b[0;31m     \u001b[0mresponse2\u001b[0m \u001b[0;34m=\u001b[0m \u001b[0mrequests\u001b[0m\u001b[0;34m.\u001b[0m\u001b[0mget\u001b[0m\u001b[0;34m(\u001b[0m\u001b[0mbase\u001b[0m\u001b[0;34m)\u001b[0m\u001b[0;34m.\u001b[0m\u001b[0mjson\u001b[0m\u001b[0;34m(\u001b[0m\u001b[0;34m)\u001b[0m\u001b[0;34m\u001b[0m\u001b[0;34m\u001b[0m\u001b[0m\n\u001b[0m\u001b[1;32m      6\u001b[0m     \u001b[0mglobal_species\u001b[0m\u001b[0;34m.\u001b[0m\u001b[0mappend\u001b[0m\u001b[0;34m(\u001b[0m\u001b[0mresponse2\u001b[0m\u001b[0;34m)\u001b[0m\u001b[0;34m\u001b[0m\u001b[0;34m\u001b[0m\u001b[0m\n\u001b[1;32m      7\u001b[0m     \u001b[0mtime\u001b[0m\u001b[0;34m.\u001b[0m\u001b[0msleep\u001b[0m\u001b[0;34m(\u001b[0m\u001b[0;36m.5\u001b[0m\u001b[0;34m)\u001b[0m\u001b[0;34m\u001b[0m\u001b[0;34m\u001b[0m\u001b[0m\n",
      "\u001b[0;32m~/opt/anaconda3/lib/python3.8/site-packages/requests/api.py\u001b[0m in \u001b[0;36mget\u001b[0;34m(url, params, **kwargs)\u001b[0m\n\u001b[1;32m     74\u001b[0m \u001b[0;34m\u001b[0m\u001b[0m\n\u001b[1;32m     75\u001b[0m     \u001b[0mkwargs\u001b[0m\u001b[0;34m.\u001b[0m\u001b[0msetdefault\u001b[0m\u001b[0;34m(\u001b[0m\u001b[0;34m'allow_redirects'\u001b[0m\u001b[0;34m,\u001b[0m \u001b[0;32mTrue\u001b[0m\u001b[0;34m)\u001b[0m\u001b[0;34m\u001b[0m\u001b[0;34m\u001b[0m\u001b[0m\n\u001b[0;32m---> 76\u001b[0;31m     \u001b[0;32mreturn\u001b[0m \u001b[0mrequest\u001b[0m\u001b[0;34m(\u001b[0m\u001b[0;34m'get'\u001b[0m\u001b[0;34m,\u001b[0m \u001b[0murl\u001b[0m\u001b[0;34m,\u001b[0m \u001b[0mparams\u001b[0m\u001b[0;34m=\u001b[0m\u001b[0mparams\u001b[0m\u001b[0;34m,\u001b[0m \u001b[0;34m**\u001b[0m\u001b[0mkwargs\u001b[0m\u001b[0;34m)\u001b[0m\u001b[0;34m\u001b[0m\u001b[0;34m\u001b[0m\u001b[0m\n\u001b[0m\u001b[1;32m     77\u001b[0m \u001b[0;34m\u001b[0m\u001b[0m\n\u001b[1;32m     78\u001b[0m \u001b[0;34m\u001b[0m\u001b[0m\n",
      "\u001b[0;32m~/opt/anaconda3/lib/python3.8/site-packages/requests/api.py\u001b[0m in \u001b[0;36mrequest\u001b[0;34m(method, url, **kwargs)\u001b[0m\n\u001b[1;32m     59\u001b[0m     \u001b[0;31m# cases, and look like a memory leak in others.\u001b[0m\u001b[0;34m\u001b[0m\u001b[0;34m\u001b[0m\u001b[0;34m\u001b[0m\u001b[0m\n\u001b[1;32m     60\u001b[0m     \u001b[0;32mwith\u001b[0m \u001b[0msessions\u001b[0m\u001b[0;34m.\u001b[0m\u001b[0mSession\u001b[0m\u001b[0;34m(\u001b[0m\u001b[0;34m)\u001b[0m \u001b[0;32mas\u001b[0m \u001b[0msession\u001b[0m\u001b[0;34m:\u001b[0m\u001b[0;34m\u001b[0m\u001b[0;34m\u001b[0m\u001b[0m\n\u001b[0;32m---> 61\u001b[0;31m         \u001b[0;32mreturn\u001b[0m \u001b[0msession\u001b[0m\u001b[0;34m.\u001b[0m\u001b[0mrequest\u001b[0m\u001b[0;34m(\u001b[0m\u001b[0mmethod\u001b[0m\u001b[0;34m=\u001b[0m\u001b[0mmethod\u001b[0m\u001b[0;34m,\u001b[0m \u001b[0murl\u001b[0m\u001b[0;34m=\u001b[0m\u001b[0murl\u001b[0m\u001b[0;34m,\u001b[0m \u001b[0;34m**\u001b[0m\u001b[0mkwargs\u001b[0m\u001b[0;34m)\u001b[0m\u001b[0;34m\u001b[0m\u001b[0;34m\u001b[0m\u001b[0m\n\u001b[0m\u001b[1;32m     62\u001b[0m \u001b[0;34m\u001b[0m\u001b[0m\n\u001b[1;32m     63\u001b[0m \u001b[0;34m\u001b[0m\u001b[0m\n",
      "\u001b[0;32m~/opt/anaconda3/lib/python3.8/site-packages/requests/sessions.py\u001b[0m in \u001b[0;36mrequest\u001b[0;34m(self, method, url, params, data, headers, cookies, files, auth, timeout, allow_redirects, proxies, hooks, stream, verify, cert, json)\u001b[0m\n\u001b[1;32m    528\u001b[0m         }\n\u001b[1;32m    529\u001b[0m         \u001b[0msend_kwargs\u001b[0m\u001b[0;34m.\u001b[0m\u001b[0mupdate\u001b[0m\u001b[0;34m(\u001b[0m\u001b[0msettings\u001b[0m\u001b[0;34m)\u001b[0m\u001b[0;34m\u001b[0m\u001b[0;34m\u001b[0m\u001b[0m\n\u001b[0;32m--> 530\u001b[0;31m         \u001b[0mresp\u001b[0m \u001b[0;34m=\u001b[0m \u001b[0mself\u001b[0m\u001b[0;34m.\u001b[0m\u001b[0msend\u001b[0m\u001b[0;34m(\u001b[0m\u001b[0mprep\u001b[0m\u001b[0;34m,\u001b[0m \u001b[0;34m**\u001b[0m\u001b[0msend_kwargs\u001b[0m\u001b[0;34m)\u001b[0m\u001b[0;34m\u001b[0m\u001b[0;34m\u001b[0m\u001b[0m\n\u001b[0m\u001b[1;32m    531\u001b[0m \u001b[0;34m\u001b[0m\u001b[0m\n\u001b[1;32m    532\u001b[0m         \u001b[0;32mreturn\u001b[0m \u001b[0mresp\u001b[0m\u001b[0;34m\u001b[0m\u001b[0;34m\u001b[0m\u001b[0m\n",
      "\u001b[0;32m~/opt/anaconda3/lib/python3.8/site-packages/requests/sessions.py\u001b[0m in \u001b[0;36msend\u001b[0;34m(self, request, **kwargs)\u001b[0m\n\u001b[1;32m    641\u001b[0m \u001b[0;34m\u001b[0m\u001b[0m\n\u001b[1;32m    642\u001b[0m         \u001b[0;31m# Send the request\u001b[0m\u001b[0;34m\u001b[0m\u001b[0;34m\u001b[0m\u001b[0;34m\u001b[0m\u001b[0m\n\u001b[0;32m--> 643\u001b[0;31m         \u001b[0mr\u001b[0m \u001b[0;34m=\u001b[0m \u001b[0madapter\u001b[0m\u001b[0;34m.\u001b[0m\u001b[0msend\u001b[0m\u001b[0;34m(\u001b[0m\u001b[0mrequest\u001b[0m\u001b[0;34m,\u001b[0m \u001b[0;34m**\u001b[0m\u001b[0mkwargs\u001b[0m\u001b[0;34m)\u001b[0m\u001b[0;34m\u001b[0m\u001b[0;34m\u001b[0m\u001b[0m\n\u001b[0m\u001b[1;32m    644\u001b[0m \u001b[0;34m\u001b[0m\u001b[0m\n\u001b[1;32m    645\u001b[0m         \u001b[0;31m# Total elapsed time of the request (approximately)\u001b[0m\u001b[0;34m\u001b[0m\u001b[0;34m\u001b[0m\u001b[0;34m\u001b[0m\u001b[0m\n",
      "\u001b[0;32m~/opt/anaconda3/lib/python3.8/site-packages/requests/adapters.py\u001b[0m in \u001b[0;36msend\u001b[0;34m(self, request, stream, timeout, verify, cert, proxies)\u001b[0m\n\u001b[1;32m    437\u001b[0m         \u001b[0;32mtry\u001b[0m\u001b[0;34m:\u001b[0m\u001b[0;34m\u001b[0m\u001b[0;34m\u001b[0m\u001b[0m\n\u001b[1;32m    438\u001b[0m             \u001b[0;32mif\u001b[0m \u001b[0;32mnot\u001b[0m \u001b[0mchunked\u001b[0m\u001b[0;34m:\u001b[0m\u001b[0;34m\u001b[0m\u001b[0;34m\u001b[0m\u001b[0m\n\u001b[0;32m--> 439\u001b[0;31m                 resp = conn.urlopen(\n\u001b[0m\u001b[1;32m    440\u001b[0m                     \u001b[0mmethod\u001b[0m\u001b[0;34m=\u001b[0m\u001b[0mrequest\u001b[0m\u001b[0;34m.\u001b[0m\u001b[0mmethod\u001b[0m\u001b[0;34m,\u001b[0m\u001b[0;34m\u001b[0m\u001b[0;34m\u001b[0m\u001b[0m\n\u001b[1;32m    441\u001b[0m                     \u001b[0murl\u001b[0m\u001b[0;34m=\u001b[0m\u001b[0murl\u001b[0m\u001b[0;34m,\u001b[0m\u001b[0;34m\u001b[0m\u001b[0;34m\u001b[0m\u001b[0m\n",
      "\u001b[0;32m~/opt/anaconda3/lib/python3.8/site-packages/urllib3/connectionpool.py\u001b[0m in \u001b[0;36murlopen\u001b[0;34m(self, method, url, body, headers, retries, redirect, assert_same_host, timeout, pool_timeout, release_conn, chunked, body_pos, **response_kw)\u001b[0m\n\u001b[1;32m    668\u001b[0m \u001b[0;34m\u001b[0m\u001b[0m\n\u001b[1;32m    669\u001b[0m             \u001b[0;31m# Make the request on the httplib connection object.\u001b[0m\u001b[0;34m\u001b[0m\u001b[0;34m\u001b[0m\u001b[0;34m\u001b[0m\u001b[0m\n\u001b[0;32m--> 670\u001b[0;31m             httplib_response = self._make_request(\n\u001b[0m\u001b[1;32m    671\u001b[0m                 \u001b[0mconn\u001b[0m\u001b[0;34m,\u001b[0m\u001b[0;34m\u001b[0m\u001b[0;34m\u001b[0m\u001b[0m\n\u001b[1;32m    672\u001b[0m                 \u001b[0mmethod\u001b[0m\u001b[0;34m,\u001b[0m\u001b[0;34m\u001b[0m\u001b[0;34m\u001b[0m\u001b[0m\n",
      "\u001b[0;32m~/opt/anaconda3/lib/python3.8/site-packages/urllib3/connectionpool.py\u001b[0m in \u001b[0;36m_make_request\u001b[0;34m(self, conn, method, url, timeout, chunked, **httplib_request_kw)\u001b[0m\n\u001b[1;32m    424\u001b[0m                     \u001b[0;31m# Python 3 (including for exceptions like SystemExit).\u001b[0m\u001b[0;34m\u001b[0m\u001b[0;34m\u001b[0m\u001b[0;34m\u001b[0m\u001b[0m\n\u001b[1;32m    425\u001b[0m                     \u001b[0;31m# Otherwise it looks like a bug in the code.\u001b[0m\u001b[0;34m\u001b[0m\u001b[0;34m\u001b[0m\u001b[0;34m\u001b[0m\u001b[0m\n\u001b[0;32m--> 426\u001b[0;31m                     \u001b[0msix\u001b[0m\u001b[0;34m.\u001b[0m\u001b[0mraise_from\u001b[0m\u001b[0;34m(\u001b[0m\u001b[0me\u001b[0m\u001b[0;34m,\u001b[0m \u001b[0;32mNone\u001b[0m\u001b[0;34m)\u001b[0m\u001b[0;34m\u001b[0m\u001b[0;34m\u001b[0m\u001b[0m\n\u001b[0m\u001b[1;32m    427\u001b[0m         \u001b[0;32mexcept\u001b[0m \u001b[0;34m(\u001b[0m\u001b[0mSocketTimeout\u001b[0m\u001b[0;34m,\u001b[0m \u001b[0mBaseSSLError\u001b[0m\u001b[0;34m,\u001b[0m \u001b[0mSocketError\u001b[0m\u001b[0;34m)\u001b[0m \u001b[0;32mas\u001b[0m \u001b[0me\u001b[0m\u001b[0;34m:\u001b[0m\u001b[0;34m\u001b[0m\u001b[0;34m\u001b[0m\u001b[0m\n\u001b[1;32m    428\u001b[0m             \u001b[0mself\u001b[0m\u001b[0;34m.\u001b[0m\u001b[0m_raise_timeout\u001b[0m\u001b[0;34m(\u001b[0m\u001b[0merr\u001b[0m\u001b[0;34m=\u001b[0m\u001b[0me\u001b[0m\u001b[0;34m,\u001b[0m \u001b[0murl\u001b[0m\u001b[0;34m=\u001b[0m\u001b[0murl\u001b[0m\u001b[0;34m,\u001b[0m \u001b[0mtimeout_value\u001b[0m\u001b[0;34m=\u001b[0m\u001b[0mread_timeout\u001b[0m\u001b[0;34m)\u001b[0m\u001b[0;34m\u001b[0m\u001b[0;34m\u001b[0m\u001b[0m\n",
      "\u001b[0;32m~/opt/anaconda3/lib/python3.8/site-packages/urllib3/packages/six.py\u001b[0m in \u001b[0;36mraise_from\u001b[0;34m(value, from_value)\u001b[0m\n",
      "\u001b[0;32m~/opt/anaconda3/lib/python3.8/site-packages/urllib3/connectionpool.py\u001b[0m in \u001b[0;36m_make_request\u001b[0;34m(self, conn, method, url, timeout, chunked, **httplib_request_kw)\u001b[0m\n\u001b[1;32m    419\u001b[0m                 \u001b[0;31m# Python 3\u001b[0m\u001b[0;34m\u001b[0m\u001b[0;34m\u001b[0m\u001b[0;34m\u001b[0m\u001b[0m\n\u001b[1;32m    420\u001b[0m                 \u001b[0;32mtry\u001b[0m\u001b[0;34m:\u001b[0m\u001b[0;34m\u001b[0m\u001b[0;34m\u001b[0m\u001b[0m\n\u001b[0;32m--> 421\u001b[0;31m                     \u001b[0mhttplib_response\u001b[0m \u001b[0;34m=\u001b[0m \u001b[0mconn\u001b[0m\u001b[0;34m.\u001b[0m\u001b[0mgetresponse\u001b[0m\u001b[0;34m(\u001b[0m\u001b[0;34m)\u001b[0m\u001b[0;34m\u001b[0m\u001b[0;34m\u001b[0m\u001b[0m\n\u001b[0m\u001b[1;32m    422\u001b[0m                 \u001b[0;32mexcept\u001b[0m \u001b[0mBaseException\u001b[0m \u001b[0;32mas\u001b[0m \u001b[0me\u001b[0m\u001b[0;34m:\u001b[0m\u001b[0;34m\u001b[0m\u001b[0;34m\u001b[0m\u001b[0m\n\u001b[1;32m    423\u001b[0m                     \u001b[0;31m# Remove the TypeError from the exception chain in\u001b[0m\u001b[0;34m\u001b[0m\u001b[0;34m\u001b[0m\u001b[0;34m\u001b[0m\u001b[0m\n",
      "\u001b[0;32m~/opt/anaconda3/lib/python3.8/http/client.py\u001b[0m in \u001b[0;36mgetresponse\u001b[0;34m(self)\u001b[0m\n\u001b[1;32m   1345\u001b[0m         \u001b[0;32mtry\u001b[0m\u001b[0;34m:\u001b[0m\u001b[0;34m\u001b[0m\u001b[0;34m\u001b[0m\u001b[0m\n\u001b[1;32m   1346\u001b[0m             \u001b[0;32mtry\u001b[0m\u001b[0;34m:\u001b[0m\u001b[0;34m\u001b[0m\u001b[0;34m\u001b[0m\u001b[0m\n\u001b[0;32m-> 1347\u001b[0;31m                 \u001b[0mresponse\u001b[0m\u001b[0;34m.\u001b[0m\u001b[0mbegin\u001b[0m\u001b[0;34m(\u001b[0m\u001b[0;34m)\u001b[0m\u001b[0;34m\u001b[0m\u001b[0;34m\u001b[0m\u001b[0m\n\u001b[0m\u001b[1;32m   1348\u001b[0m             \u001b[0;32mexcept\u001b[0m \u001b[0mConnectionError\u001b[0m\u001b[0;34m:\u001b[0m\u001b[0;34m\u001b[0m\u001b[0;34m\u001b[0m\u001b[0m\n\u001b[1;32m   1349\u001b[0m                 \u001b[0mself\u001b[0m\u001b[0;34m.\u001b[0m\u001b[0mclose\u001b[0m\u001b[0;34m(\u001b[0m\u001b[0;34m)\u001b[0m\u001b[0;34m\u001b[0m\u001b[0;34m\u001b[0m\u001b[0m\n",
      "\u001b[0;32m~/opt/anaconda3/lib/python3.8/http/client.py\u001b[0m in \u001b[0;36mbegin\u001b[0;34m(self)\u001b[0m\n\u001b[1;32m    305\u001b[0m         \u001b[0;31m# read until we get a non-100 response\u001b[0m\u001b[0;34m\u001b[0m\u001b[0;34m\u001b[0m\u001b[0;34m\u001b[0m\u001b[0m\n\u001b[1;32m    306\u001b[0m         \u001b[0;32mwhile\u001b[0m \u001b[0;32mTrue\u001b[0m\u001b[0;34m:\u001b[0m\u001b[0;34m\u001b[0m\u001b[0;34m\u001b[0m\u001b[0m\n\u001b[0;32m--> 307\u001b[0;31m             \u001b[0mversion\u001b[0m\u001b[0;34m,\u001b[0m \u001b[0mstatus\u001b[0m\u001b[0;34m,\u001b[0m \u001b[0mreason\u001b[0m \u001b[0;34m=\u001b[0m \u001b[0mself\u001b[0m\u001b[0;34m.\u001b[0m\u001b[0m_read_status\u001b[0m\u001b[0;34m(\u001b[0m\u001b[0;34m)\u001b[0m\u001b[0;34m\u001b[0m\u001b[0;34m\u001b[0m\u001b[0m\n\u001b[0m\u001b[1;32m    308\u001b[0m             \u001b[0;32mif\u001b[0m \u001b[0mstatus\u001b[0m \u001b[0;34m!=\u001b[0m \u001b[0mCONTINUE\u001b[0m\u001b[0;34m:\u001b[0m\u001b[0;34m\u001b[0m\u001b[0;34m\u001b[0m\u001b[0m\n\u001b[1;32m    309\u001b[0m                 \u001b[0;32mbreak\u001b[0m\u001b[0;34m\u001b[0m\u001b[0;34m\u001b[0m\u001b[0m\n",
      "\u001b[0;32m~/opt/anaconda3/lib/python3.8/http/client.py\u001b[0m in \u001b[0;36m_read_status\u001b[0;34m(self)\u001b[0m\n\u001b[1;32m    266\u001b[0m \u001b[0;34m\u001b[0m\u001b[0m\n\u001b[1;32m    267\u001b[0m     \u001b[0;32mdef\u001b[0m \u001b[0m_read_status\u001b[0m\u001b[0;34m(\u001b[0m\u001b[0mself\u001b[0m\u001b[0;34m)\u001b[0m\u001b[0;34m:\u001b[0m\u001b[0;34m\u001b[0m\u001b[0;34m\u001b[0m\u001b[0m\n\u001b[0;32m--> 268\u001b[0;31m         \u001b[0mline\u001b[0m \u001b[0;34m=\u001b[0m \u001b[0mstr\u001b[0m\u001b[0;34m(\u001b[0m\u001b[0mself\u001b[0m\u001b[0;34m.\u001b[0m\u001b[0mfp\u001b[0m\u001b[0;34m.\u001b[0m\u001b[0mreadline\u001b[0m\u001b[0;34m(\u001b[0m\u001b[0m_MAXLINE\u001b[0m \u001b[0;34m+\u001b[0m \u001b[0;36m1\u001b[0m\u001b[0;34m)\u001b[0m\u001b[0;34m,\u001b[0m \u001b[0;34m\"iso-8859-1\"\u001b[0m\u001b[0;34m)\u001b[0m\u001b[0;34m\u001b[0m\u001b[0;34m\u001b[0m\u001b[0m\n\u001b[0m\u001b[1;32m    269\u001b[0m         \u001b[0;32mif\u001b[0m \u001b[0mlen\u001b[0m\u001b[0;34m(\u001b[0m\u001b[0mline\u001b[0m\u001b[0;34m)\u001b[0m \u001b[0;34m>\u001b[0m \u001b[0m_MAXLINE\u001b[0m\u001b[0;34m:\u001b[0m\u001b[0;34m\u001b[0m\u001b[0;34m\u001b[0m\u001b[0m\n\u001b[1;32m    270\u001b[0m             \u001b[0;32mraise\u001b[0m \u001b[0mLineTooLong\u001b[0m\u001b[0;34m(\u001b[0m\u001b[0;34m\"status line\"\u001b[0m\u001b[0;34m)\u001b[0m\u001b[0;34m\u001b[0m\u001b[0;34m\u001b[0m\u001b[0m\n",
      "\u001b[0;32m~/opt/anaconda3/lib/python3.8/socket.py\u001b[0m in \u001b[0;36mreadinto\u001b[0;34m(self, b)\u001b[0m\n\u001b[1;32m    667\u001b[0m         \u001b[0;32mwhile\u001b[0m \u001b[0;32mTrue\u001b[0m\u001b[0;34m:\u001b[0m\u001b[0;34m\u001b[0m\u001b[0;34m\u001b[0m\u001b[0m\n\u001b[1;32m    668\u001b[0m             \u001b[0;32mtry\u001b[0m\u001b[0;34m:\u001b[0m\u001b[0;34m\u001b[0m\u001b[0;34m\u001b[0m\u001b[0m\n\u001b[0;32m--> 669\u001b[0;31m                 \u001b[0;32mreturn\u001b[0m \u001b[0mself\u001b[0m\u001b[0;34m.\u001b[0m\u001b[0m_sock\u001b[0m\u001b[0;34m.\u001b[0m\u001b[0mrecv_into\u001b[0m\u001b[0;34m(\u001b[0m\u001b[0mb\u001b[0m\u001b[0;34m)\u001b[0m\u001b[0;34m\u001b[0m\u001b[0;34m\u001b[0m\u001b[0m\n\u001b[0m\u001b[1;32m    670\u001b[0m             \u001b[0;32mexcept\u001b[0m \u001b[0mtimeout\u001b[0m\u001b[0;34m:\u001b[0m\u001b[0;34m\u001b[0m\u001b[0;34m\u001b[0m\u001b[0m\n\u001b[1;32m    671\u001b[0m                 \u001b[0mself\u001b[0m\u001b[0;34m.\u001b[0m\u001b[0m_timeout_occurred\u001b[0m \u001b[0;34m=\u001b[0m \u001b[0;32mTrue\u001b[0m\u001b[0;34m\u001b[0m\u001b[0;34m\u001b[0m\u001b[0m\n",
      "\u001b[0;32m~/opt/anaconda3/lib/python3.8/ssl.py\u001b[0m in \u001b[0;36mrecv_into\u001b[0;34m(self, buffer, nbytes, flags)\u001b[0m\n\u001b[1;32m   1239\u001b[0m                   \u001b[0;34m\"non-zero flags not allowed in calls to recv_into() on %s\"\u001b[0m \u001b[0;34m%\u001b[0m\u001b[0;34m\u001b[0m\u001b[0;34m\u001b[0m\u001b[0m\n\u001b[1;32m   1240\u001b[0m                   self.__class__)\n\u001b[0;32m-> 1241\u001b[0;31m             \u001b[0;32mreturn\u001b[0m \u001b[0mself\u001b[0m\u001b[0;34m.\u001b[0m\u001b[0mread\u001b[0m\u001b[0;34m(\u001b[0m\u001b[0mnbytes\u001b[0m\u001b[0;34m,\u001b[0m \u001b[0mbuffer\u001b[0m\u001b[0;34m)\u001b[0m\u001b[0;34m\u001b[0m\u001b[0;34m\u001b[0m\u001b[0m\n\u001b[0m\u001b[1;32m   1242\u001b[0m         \u001b[0;32melse\u001b[0m\u001b[0;34m:\u001b[0m\u001b[0;34m\u001b[0m\u001b[0;34m\u001b[0m\u001b[0m\n\u001b[1;32m   1243\u001b[0m             \u001b[0;32mreturn\u001b[0m \u001b[0msuper\u001b[0m\u001b[0;34m(\u001b[0m\u001b[0;34m)\u001b[0m\u001b[0;34m.\u001b[0m\u001b[0mrecv_into\u001b[0m\u001b[0;34m(\u001b[0m\u001b[0mbuffer\u001b[0m\u001b[0;34m,\u001b[0m \u001b[0mnbytes\u001b[0m\u001b[0;34m,\u001b[0m \u001b[0mflags\u001b[0m\u001b[0;34m)\u001b[0m\u001b[0;34m\u001b[0m\u001b[0;34m\u001b[0m\u001b[0m\n",
      "\u001b[0;32m~/opt/anaconda3/lib/python3.8/ssl.py\u001b[0m in \u001b[0;36mread\u001b[0;34m(self, len, buffer)\u001b[0m\n\u001b[1;32m   1097\u001b[0m         \u001b[0;32mtry\u001b[0m\u001b[0;34m:\u001b[0m\u001b[0;34m\u001b[0m\u001b[0;34m\u001b[0m\u001b[0m\n\u001b[1;32m   1098\u001b[0m             \u001b[0;32mif\u001b[0m \u001b[0mbuffer\u001b[0m \u001b[0;32mis\u001b[0m \u001b[0;32mnot\u001b[0m \u001b[0;32mNone\u001b[0m\u001b[0;34m:\u001b[0m\u001b[0;34m\u001b[0m\u001b[0;34m\u001b[0m\u001b[0m\n\u001b[0;32m-> 1099\u001b[0;31m                 \u001b[0;32mreturn\u001b[0m \u001b[0mself\u001b[0m\u001b[0;34m.\u001b[0m\u001b[0m_sslobj\u001b[0m\u001b[0;34m.\u001b[0m\u001b[0mread\u001b[0m\u001b[0;34m(\u001b[0m\u001b[0mlen\u001b[0m\u001b[0;34m,\u001b[0m \u001b[0mbuffer\u001b[0m\u001b[0;34m)\u001b[0m\u001b[0;34m\u001b[0m\u001b[0;34m\u001b[0m\u001b[0m\n\u001b[0m\u001b[1;32m   1100\u001b[0m             \u001b[0;32melse\u001b[0m\u001b[0;34m:\u001b[0m\u001b[0;34m\u001b[0m\u001b[0;34m\u001b[0m\u001b[0m\n\u001b[1;32m   1101\u001b[0m                 \u001b[0;32mreturn\u001b[0m \u001b[0mself\u001b[0m\u001b[0;34m.\u001b[0m\u001b[0m_sslobj\u001b[0m\u001b[0;34m.\u001b[0m\u001b[0mread\u001b[0m\u001b[0;34m(\u001b[0m\u001b[0mlen\u001b[0m\u001b[0;34m)\u001b[0m\u001b[0;34m\u001b[0m\u001b[0;34m\u001b[0m\u001b[0m\n",
      "\u001b[0;31mKeyboardInterrupt\u001b[0m: "
     ]
    }
   ],
   "source": [
    "# for loop to print out every 500 pages into a json\n",
    "global_species = []\n",
    "\n",
    "# for page in range(1101,20348):\n",
    "#     base = f'https://trefle.io/api/v1/species?token=QJ34dZabNm5jkLoTOSKNd0zPIQb_GKDbh1_w8TZAxdk&page={page}'\n",
    "#     response2 = requests.get(base).json()\n",
    "#     global_species.append(response2)\n",
    "#     time.sleep(.5)\n",
    "#     if (page %500) == 0:\n",
    "#         with open(f'species_{page/500}.json', 'w') as F:\n",
    "#             json.dump(global_species, F)\n",
    "#         global_species = []\n",
    "#         print(page, response2)"
   ]
  },
  {
   "cell_type": "code",
   "execution_count": 80,
   "metadata": {},
   "outputs": [],
   "source": [
    "# plants api\n",
    "base = 'https://trefle.io/api/v1/plants?token=QJ34dZabNm5jkLoTOSKNd0zPIQb_GKDbh1_w8TZAxdk'\n",
    "response3 = requests.get(base).json()"
   ]
  },
  {
   "cell_type": "code",
   "execution_count": 81,
   "metadata": {},
   "outputs": [
    {
     "data": {
      "text/plain": [
       "{'total': 377570}"
      ]
     },
     "execution_count": 81,
     "metadata": {},
     "output_type": "execute_result"
    }
   ],
   "source": [
    "response3['meta']\n",
    "\n",
    "#plants - 377,570\n",
    "#377,570/20 = range = 18,878.5"
   ]
  },
  {
   "cell_type": "code",
   "execution_count": 86,
   "metadata": {
    "collapsed": true,
    "jupyter": {
     "outputs_hidden": true
    }
   },
   "outputs": [
    {
     "name": "stdout",
     "output_type": "stream",
     "text": [
      "18522 {'data': [{'id': 1200523, 'common_name': None, 'slug': 'popowia-bicomis', 'scientific_name': 'Popowia bicomis', 'year': None, 'bibliography': \"Boutique R (1951) Annonacees nouvelles de la flore du Congo Belge et du Ruanda-Urundi. Bulletin du Jardin botanique de l'État a Bruxelles 21(1/2): 95. doi: 10.2307/3666813.\", 'author': 'Boutique', 'status': 'accepted', 'rank': 'species', 'family_common_name': 'Custard-apple family', 'genus_id': 7499, 'image_url': None, 'synonyms': [], 'genus': 'Popowia', 'family': 'Annonaceae', 'links': {'self': '/api/v1/species/popowia-bicomis', 'plant': '/api/v1/plants/popowia-bicomis', 'genus': '/api/v1/genus/popowia'}}, {'id': 695424, 'common_name': None, 'slug': 'primulina-malipoensis', 'scientific_name': 'Primulina malipoensis', 'year': 2018, 'bibliography': 'PhytoKeys 94: 109 (2018)', 'author': 'Li H.Yang & M.Kang', 'status': 'accepted', 'rank': 'species', 'family_common_name': 'Gesneriad family', 'genus_id': 13507, 'image_url': None, 'synonyms': [], 'genus': 'Primulina', 'family': 'Gesneriaceae', 'links': {'self': '/api/v1/species/primulina-malipoensis', 'plant': '/api/v1/plants/primulina-malipoensis', 'genus': '/api/v1/genus/primulina'}}, {'id': 794314, 'common_name': None, 'slug': 'miconia-tentaculicapitata', 'scientific_name': 'Miconia tentaculicapitata', 'year': 2013, 'bibliography': 'J. Bot. Res. Inst. Texas 7(1): 269 (2013)', 'author': 'Majure & Judd', 'status': 'accepted', 'rank': 'species', 'family_common_name': 'Melastome family', 'genus_id': 3256, 'image_url': 'https://d2seqvvyy3b8p2.cloudfront.net/a6ac2423a08b2f4788359b914c11a5b4.jpg', 'synonyms': [], 'genus': 'Miconia', 'family': 'Melastomataceae', 'links': {'self': '/api/v1/species/miconia-tentaculicapitata', 'plant': '/api/v1/plants/miconia-tentaculicapitata', 'genus': '/api/v1/genus/miconia'}}, {'id': 822002, 'common_name': None, 'slug': 'myrcia-hatschbachii', 'scientific_name': 'Myrcia hatschbachii', 'year': 1961, 'bibliography': 'Sellowia 13: 293 (1961)', 'author': 'D.Legrand', 'status': 'accepted', 'rank': 'species', 'family_common_name': 'Myrtle family', 'genus_id': 4761, 'image_url': 'https://d2seqvvyy3b8p2.cloudfront.net/61aeb4ad4d2a0051163f5a57cf12eb7b.jpg', 'synonyms': [], 'genus': 'Myrcia', 'family': 'Myrtaceae', 'links': {'self': '/api/v1/species/myrcia-hatschbachii', 'plant': '/api/v1/plants/myrcia-hatschbachii', 'genus': '/api/v1/genus/myrcia'}}, {'id': 1200572, 'common_name': None, 'slug': 'melodorum-affine', 'scientific_name': 'Melodorum affine', 'year': None, 'bibliography': 'Craib WG (1922) Contributions to the Flora of Siam. Additamentum XII. Bulletin of Miscellaneous Information (Royal Gardens, Kew) 1922(5): 165. doi: 10.2307/4113362.', 'author': 'Craib', 'status': 'accepted', 'rank': 'species', 'family_common_name': 'Custard-apple family', 'genus_id': 7511, 'image_url': None, 'synonyms': [], 'genus': 'Melodorum', 'family': 'Annonaceae', 'links': {'self': '/api/v1/species/melodorum-affine', 'plant': '/api/v1/plants/melodorum-affine', 'genus': '/api/v1/genus/melodorum'}}, {'id': 1027542, 'common_name': None, 'slug': 'primula-x-pubescens', 'scientific_name': 'Primula × pubescens', 'year': 1779, 'bibliography': 'Misc. Austriac. 1: 159 (1779)', 'author': 'Jacq.', 'status': 'accepted', 'rank': 'hybrid', 'family_common_name': 'Primrose family', 'genus_id': 2524, 'image_url': None, 'synonyms': ['Primula × rhaetica', 'Primula × peyritschii'], 'genus': 'Primula', 'family': 'Primulaceae', 'links': {'self': '/api/v1/species/primula-x-pubescens', 'plant': '/api/v1/plants/primula-x-pubescens', 'genus': '/api/v1/genus/primula'}}, {'id': 1027377, 'common_name': None, 'slug': 'primula-pengzhouensis', 'scientific_name': 'Primula pengzhouensis', 'year': 2017, 'bibliography': 'Pl. Diversity 39: 229 (2017)', 'author': 'C.M.Hu, G.Hao & Y.Xu', 'status': 'accepted', 'rank': 'species', 'family_common_name': 'Primrose family', 'genus_id': 2524, 'image_url': None, 'synonyms': [], 'genus': 'Primula', 'family': 'Primulaceae', 'links': {'self': '/api/v1/species/primula-pengzhouensis', 'plant': '/api/v1/plants/primula-pengzhouensis', 'genus': '/api/v1/genus/primula'}}, {'id': 765927, 'common_name': None, 'slug': 'gaudichaudia-symplecta', 'scientific_name': 'Gaudichaudia symplecta', 'year': 2003, 'bibliography': 'Madroño 49: 253 (2002 publ. 2003)', 'author': 'S.L.Jessup', 'status': 'accepted', 'rank': 'species', 'family_common_name': 'Barbados Cherry family', 'genus_id': 14118, 'image_url': None, 'synonyms': [], 'genus': 'Gaudichaudia', 'family': 'Malpighiaceae', 'links': {'self': '/api/v1/species/gaudichaudia-symplecta', 'plant': '/api/v1/plants/gaudichaudia-symplecta', 'genus': '/api/v1/genus/gaudichaudia'}}, {'id': 591530, 'common_name': None, 'slug': 'rhododendron-eurysiphon', 'scientific_name': 'Rhododendron eurysiphon', 'year': 1930, 'bibliography': 'J.B.Stevenson, Spec. Rhododendron: 708 (1930)', 'author': 'Tagg & Forrest', 'status': 'accepted', 'rank': 'species', 'family_common_name': 'Heath family', 'genus_id': 4025, 'image_url': None, 'synonyms': [], 'genus': 'Rhododendron', 'family': 'Ericaceae', 'links': {'self': '/api/v1/species/rhododendron-eurysiphon', 'plant': '/api/v1/plants/rhododendron-eurysiphon', 'genus': '/api/v1/genus/rhododendron'}}, {'id': 303375, 'common_name': None, 'slug': 'ruellia-jeddahica', 'scientific_name': 'Ruellia jeddahica', 'year': 2001, 'bibliography': 'Bangladesh J. Pl. Taxon. 8: 84 (2001)', 'author': 'Hemaid', 'status': 'accepted', 'rank': 'species', 'family_common_name': 'Acanthus family', 'genus_id': 2603, 'image_url': None, 'synonyms': [], 'genus': 'Ruellia', 'family': 'Acanthaceae', 'links': {'self': '/api/v1/species/ruellia-jeddahica', 'plant': '/api/v1/plants/ruellia-jeddahica', 'genus': '/api/v1/genus/ruellia'}}, {'id': 765918, 'common_name': None, 'slug': 'gaudichaudia-andersonii', 'scientific_name': 'Gaudichaudia andersonii', 'year': 2003, 'bibliography': 'Madroño 49: 254 (2002 publ. 2003)', 'author': 'S.L.Jessup', 'status': 'accepted', 'rank': 'species', 'family_common_name': 'Barbados Cherry family', 'genus_id': 14118, 'image_url': None, 'synonyms': [], 'genus': 'Gaudichaudia', 'family': 'Malpighiaceae', 'links': {'self': '/api/v1/species/gaudichaudia-andersonii', 'plant': '/api/v1/plants/gaudichaudia-andersonii', 'genus': '/api/v1/genus/gaudichaudia'}}, {'id': 1001012, 'common_name': None, 'slug': 'polygala-wuzhishanensis', 'scientific_name': 'Polygala wuzhishanensis', 'year': 2008, 'bibliography': 'Fl. China 11: 148 (2008)', 'author': 'S.K.Chen & J.Parn.', 'status': 'accepted', 'rank': 'species', 'family_common_name': 'Milkwort family', 'genus_id': 5512, 'image_url': None, 'synonyms': [], 'genus': 'Polygala', 'family': 'Polygalaceae', 'links': {'self': '/api/v1/species/polygala-wuzhishanensis', 'plant': '/api/v1/plants/polygala-wuzhishanensis', 'genus': '/api/v1/genus/polygala'}}, {'id': 700761, 'common_name': None, 'slug': 'blyxa-kasaragodensis', 'scientific_name': 'Blyxa kasaragodensis', 'year': 2016, 'bibliography': 'Webbia 71: 61 (2016)', 'author': 'P.Biju, Josekutty & Augustine', 'status': 'accepted', 'rank': 'species', 'family_common_name': 'Tape-grass family', 'genus_id': 1024, 'image_url': None, 'synonyms': [], 'genus': 'Blyxa', 'family': 'Hydrocharitaceae', 'links': {'self': '/api/v1/species/blyxa-kasaragodensis', 'plant': '/api/v1/plants/blyxa-kasaragodensis', 'genus': '/api/v1/genus/blyxa'}}, {'id': 868363, 'common_name': None, 'slug': 'corybas-papillosus', 'scientific_name': 'Corybas papillosus', 'year': 2016, 'bibliography': 'New Zealand Native Orchid J. 139: 5 (2016)', 'author': '(Colenso) Lehnebach', 'status': 'accepted', 'rank': 'species', 'family_common_name': None, 'genus_id': 14913, 'image_url': None, 'synonyms': ['Corysanthes papillosa', 'Nematoceras papillosum'], 'genus': 'Corybas', 'family': 'Orchidaceae', 'links': {'self': '/api/v1/species/corybas-papillosus', 'plant': '/api/v1/plants/corybas-papillosus', 'genus': '/api/v1/genus/corybas'}}, {'id': 428978, 'common_name': None, 'slug': 'hieracium-chiariglionei', 'scientific_name': 'Hieracium chiariglionei', 'year': 2011, 'bibliography': 'Stapfia 95: 34 (fig. 2) (2011)', 'author': 'Gottschl.', 'status': 'accepted', 'rank': 'species', 'family_common_name': 'Aster family', 'genus_id': 3552, 'image_url': None, 'synonyms': [], 'genus': 'Hieracium', 'family': 'Asteraceae', 'links': {'self': '/api/v1/species/hieracium-chiariglionei', 'plant': '/api/v1/plants/hieracium-chiariglionei', 'genus': '/api/v1/genus/hieracium'}}, {'id': 591216, 'common_name': None, 'slug': 'rhododendron-brachygynum', 'scientific_name': 'Rhododendron brachygynum', 'year': 1929, 'bibliography': 'Philipp. J. Sci. 40: 137 (1929)', 'author': 'H.F.Copel.', 'status': 'accepted', 'rank': 'species', 'family_common_name': 'Heath family', 'genus_id': 4025, 'image_url': None, 'synonyms': [], 'genus': 'Rhododendron', 'family': 'Ericaceae', 'links': {'self': '/api/v1/species/rhododendron-brachygynum', 'plant': '/api/v1/plants/rhododendron-brachygynum', 'genus': '/api/v1/genus/rhododendron'}}, {'id': 760470, 'common_name': None, 'slug': 'lycopodiella-x-brucei', 'scientific_name': 'Lycopodiella × brucei', 'year': 1981, 'bibliography': 'Amer. Fern J. 71: 97 (1981)', 'author': 'Cranfill', 'status': 'accepted', 'rank': 'hybrid', 'family_common_name': 'Club-moss family', 'genus_id': 4331, 'image_url': None, 'synonyms': ['Lycopodium × brucei'], 'genus': 'Lycopodiella', 'family': 'Lycopodiaceae', 'links': {'self': '/api/v1/species/lycopodiella-x-brucei', 'plant': '/api/v1/plants/lycopodiella-x-brucei', 'genus': '/api/v1/genus/lycopodiella'}}, {'id': 760236, 'common_name': None, 'slug': 'huperzia-x-protoporophila', 'scientific_name': 'Huperzia × protoporophila', 'year': 2003, 'bibliography': ': 88 (2003)', 'author': 'A.Haines', 'status': 'accepted', 'rank': 'hybrid', 'family_common_name': 'Club-moss family', 'genus_id': 3639, 'image_url': None, 'synonyms': [], 'genus': 'Huperzia', 'family': 'Lycopodiaceae', 'links': {'self': '/api/v1/species/huperzia-x-protoporophila', 'plant': '/api/v1/plants/huperzia-x-protoporophila', 'genus': '/api/v1/genus/huperzia'}}, {'id': 1027150, 'common_name': None, 'slug': 'primula-chrysostoma', 'scientific_name': 'Primula chrysostoma', 'year': 1968, 'bibliography': 'Wiss. Z. Friedrich-Schiller-Univ. Jena, Math.-Naturwiss. Reihe 17: 325 (1968)', 'author': 'O.Schwarz', 'status': 'accepted', 'rank': 'species', 'family_common_name': 'Primrose family', 'genus_id': 2524, 'image_url': None, 'synonyms': [], 'genus': 'Primula', 'family': 'Primulaceae', 'links': {'self': '/api/v1/species/primula-chrysostoma', 'plant': '/api/v1/plants/primula-chrysostoma', 'genus': '/api/v1/genus/primula'}}, {'id': 759169, 'common_name': None, 'slug': 'huperzia-comans', 'scientific_name': 'Huperzia comans', 'year': 1987, 'bibliography': 'Bradea 5(1): 8 (1987)', 'author': '(Herter ex Nessel & Hoehne) B.Øllg. & P.G.Windisch', 'status': 'accepted', 'rank': 'species', 'family_common_name': 'Club-moss family', 'genus_id': 3639, 'image_url': None, 'synonyms': ['Urostachys comans', 'Phlegmariurus comans'], 'genus': 'Huperzia', 'family': 'Lycopodiaceae', 'links': {'self': '/api/v1/species/huperzia-comans', 'plant': '/api/v1/plants/huperzia-comans', 'genus': '/api/v1/genus/huperzia'}}], 'links': {'self': '/api/v1/plants?page=18522', 'first': '/api/v1/plants?page=1', 'prev': '/api/v1/plants?page=18521', 'next': '/api/v1/plants?page=18523', 'last': '/api/v1/plants?page=18879'}, 'meta': {'total': 377570}}\n"
     ]
    }
   ],
   "source": [
    "# for loop to print out every 500 pages into a json\n",
    "global_plants = []\n",
    "\n",
    "# for page in range(18501,18879):\n",
    "#     base = f'https://trefle.io/api/v1/plants?token=QJ34dZabNm5jkLoTOSKNd0zPIQb_GKDbh1_w8TZAxdk&page={page}'\n",
    "#     response3 = requests.get(base).json()\n",
    "#     global_plants.append(response3)\n",
    "#     time.sleep(.5)\n",
    "#     if (page %378) == 0:\n",
    "#         with open(f'plants_{page/378}.json', 'w') as F:\n",
    "#             json.dump(global_plants, F)\n",
    "#         global_plants = []\n",
    "#         print(page, response3)"
   ]
  },
  {
   "cell_type": "code",
   "execution_count": 49,
   "metadata": {},
   "outputs": [],
   "source": [
    "#list of level \n",
    "#{distribution['name']:distribution['species_count'] for distribution in global_distributions2 if distribution['tdwg_level']==3}"
   ]
  },
  {
   "cell_type": "code",
   "execution_count": 64,
   "metadata": {},
   "outputs": [],
   "source": [
    "zones = [distribution['id'] for distribution in global_distributions2 if distribution['tdwg_level']==1]\n",
    "species = 137607\n",
    "species_counts = {}\n",
    "\n",
    "for zone in zones:\n",
    "    base = f'https://trefle.io/api/v1/distributions/{zone}/plants?token=QJ34dZabNm5jkLoTOSKNd0zPIQb_GKDbh1_w8TZAxdk&filter[main_species_id]={species}'\n",
    "    response3 = requests.get(base).json()\n",
    "    species_counts[zone] = response3['meta']['total']"
   ]
  },
  {
   "cell_type": "code",
   "execution_count": 65,
   "metadata": {},
   "outputs": [
    {
     "data": {
      "text/plain": [
       "{407: 212653,\n",
       " 742: 931,\n",
       " 433: 164148,\n",
       " 504: 151477,\n",
       " 565: 40616,\n",
       " 369: 113452,\n",
       " 595: 196287,\n",
       " 576: 16549,\n",
       " 643: 270895}"
      ]
     },
     "execution_count": 65,
     "metadata": {},
     "output_type": "execute_result"
    }
   ],
   "source": [
    "# number of species in level 1 map\n",
    "species_counts"
   ]
  }
 ],
 "metadata": {
  "kernelspec": {
   "display_name": "Python 3",
   "language": "python",
   "name": "python3"
  },
  "language_info": {
   "codemirror_mode": {
    "name": "ipython",
    "version": 3
   },
   "file_extension": ".py",
   "mimetype": "text/x-python",
   "name": "python",
   "nbconvert_exporter": "python",
   "pygments_lexer": "ipython3",
   "version": "3.8.5"
  }
 },
 "nbformat": 4,
 "nbformat_minor": 4
}
